{
 "cells": [
  {
   "cell_type": "code",
   "execution_count": null,
   "id": "7595ab47-d08b-4814-be11-131110c119e6",
   "metadata": {},
   "outputs": [],
   "source": [
    "# Install\n",
    "install.packages(\"reticulate\")\n",
    "\n",
    "# Load reticulate\n",
    "library(reticulate)\n",
    "\n",
    "# Use the pvactools conda environment\n",
    "use_condaenv(\"pvactools\", required = TRUE)\n"
   ]
  },
  {
   "cell_type": "code",
   "execution_count": 5,
   "id": "262a52b9-dbcc-4c77-9ec7-5c97cb921594",
   "metadata": {},
   "outputs": [],
   "source": [
    "py_run_string(\"\n",
    "import subprocess\n",
    "\n",
    "##\n",
    "vcf_file = 'path/to/annotated.expression.vcf.gz'\n",
    "tumor_sample_name = 'TUMOR_DNA'\n",
    "hla_alleles = 'HLA-A*29:02,HLA-B*45:01,HLA-B*82:02,HLA-C*06:02'\n",
    "pvac_output_dir = 'path/to/output'\n",
    "normal_sample_name = 'NORMAL_DNA'\n",
    "phased_vcf = 'path/to/phased.vcf.gz'\n",
    "peptide_fasta = 'path/to/Homo_sapiens.GRCh38.pep.all.fa.gz'\n",
    "\n",
    "\n",
    "##\n",
    "pvacseq_command = [\n",
    "    'pvacseq', 'run',\n",
    "    vcf_file,\n",
    "    tumor_sample_name,\n",
    "    hla_alleles,\n",
    "    'all_class_i',\n",
    "    pvac_output_dir,\n",
    "    '--normal-sample-name', normal_sample_name,\n",
    "    '--phased-proximal-variants-vcf', phased_vcf,\n",
    "    '--pass-only',\n",
    "    '--allele-specific-binding-thresholds',\n",
    "    '--percentile-threshold', '0.01',\n",
    "    '--allele-specific-anchors',\n",
    "    '--run-reference-proteome-similarity',\n",
    "    '--peptide-fasta', peptide_fasta,\n",
    "    '--problematic-amino-acids', 'C',\n",
    "    '--downstream-sequence-length', '100',\n",
    "    '--n-threads', '1'\n",
    "]\n",
    "\n",
    "print('Running pvacseq...')\n",
    "subprocess.run(pvacseq_command)\n",
    "\")\n"
   ]
  },
  {
   "cell_type": "code",
   "execution_count": 7,
   "id": "24cbe414-26f3-439d-a15b-5d881ed763f3",
   "metadata": {},
   "outputs": [],
   "source": [
    "# Load devtools if it's not already installed\n",
    "if (!requireNamespace(\"devtools\", quietly = TRUE)) {\n",
    "  install.packages(\"devtools\") }\n",
    "\n",
    "# Install CrossDome if it is not already installed or needs an update\n",
    "if (!(\"crossdome\" %in% rownames(installed.packages()))) {\n",
    "  devtools::install_github(\"antuneslab/crossdome\", build_vignettes = TRUE) } \n",
    "\n",
    "library(crossdome)\n",
    "library(ggplot2)"
   ]
  },
  {
   "cell_type": "code",
   "execution_count": 9,
   "id": "c3d42910-5af8-4a22-8cb2-f71ead83ed28",
   "metadata": {},
   "outputs": [],
   "source": [
    "# Access Python variables\n",
    "pvac_output_dir <- py$pvac_output_dir\n",
    "tumor_sample_name <- py$tumor_sample_name\n",
    "\n",
    "# Construct path and load table\n",
    "file_path <- file.path(pvac_output_dir, \"MHC_Class_I\", paste0(tumor_sample_name, \".all_epitopes.tsv\"))\n",
    "table <- read.delim(file_path, sep = \"\\t\", header = TRUE)\n",
    "\n",
    "# Subset columns 17 and 21\n",
    "table <- table[, c(17, 21)]\n",
    "\n",
    "df <- table[nchar(table$MT.Epitope.Seq) == 9, ]\n"
   ]
  },
  {
   "cell_type": "code",
   "execution_count": 10,
   "id": "6dd25a9c-7a3c-4681-aca1-c22af8c04c15",
   "metadata": {},
   "outputs": [
    {
     "name": "stdout",
     "output_type": "stream",
     "text": [
      "##------ Mon Jun 30 14:21:17 2025 ------##\n",
      "[1] \"Your results were saved as: HLA-A2902_LTRVTPMGW.csv\"\n",
      "[1] \"From: 12812, there are 24 significant peptides (lower than 0.05)\"\n"
     ]
    },
    {
     "name": "stderr",
     "output_type": "stream",
     "text": [
      "Skipping expression and tissue plots for HLA-A2902_LTRVTPMGW because: The provided epitopes are not included on the human proteome.\n",
      "\n"
     ]
    },
    {
     "name": "stdout",
     "output_type": "stream",
     "text": [
      "##------ Mon Jun 30 14:21:25 2025 ------##\n",
      "[1] \"Your results were saved as: HLA-A2902_TRVTPMGWG.csv\"\n",
      "[1] \"From: 12812, there are 2 significant peptides (lower than 0.05)\"\n"
     ]
    },
    {
     "name": "stderr",
     "output_type": "stream",
     "text": [
      "Skipping expression and tissue plots for HLA-A2902_TRVTPMGWG because: The provided epitopes are not included on the human proteome.\n",
      "\n"
     ]
    },
    {
     "name": "stdout",
     "output_type": "stream",
     "text": [
      "##------ Mon Jun 30 14:21:26 2025 ------##\n",
      "[1] \"Your results were saved as: HLA-A2902_RVTPMGWGC.csv\"\n",
      "[1] \"From: 12812, there are 6 significant peptides (lower than 0.05)\"\n"
     ]
    },
    {
     "name": "stderr",
     "output_type": "stream",
     "text": [
      "Skipping expression and tissue plots for HLA-A2902_RVTPMGWGC because: The provided epitopes are not included on the human proteome.\n",
      "\n"
     ]
    },
    {
     "name": "stdout",
     "output_type": "stream",
     "text": [
      "##------ Mon Jun 30 14:21:27 2025 ------##\n",
      "[1] \"Your results were saved as: HLA-A2902_VTPMGWGCL.csv\"\n",
      "[1] \"From: 12812, there are 7 significant peptides (lower than 0.05)\"\n"
     ]
    },
    {
     "name": "stderr",
     "output_type": "stream",
     "text": [
      "Skipping expression and tissue plots for HLA-A2902_VTPMGWGCL because: The provided epitopes are not included on the human proteome.\n",
      "\n"
     ]
    },
    {
     "name": "stdout",
     "output_type": "stream",
     "text": [
      "##------ Mon Jun 30 14:21:28 2025 ------##\n",
      "[1] \"Your results were saved as: HLA-A2902_TPMGWGCLA.csv\"\n",
      "[1] \"From: 12812, there are 19 significant peptides (lower than 0.05)\"\n"
     ]
    },
    {
     "name": "stderr",
     "output_type": "stream",
     "text": [
      "Skipping expression and tissue plots for HLA-A2902_TPMGWGCLA because: The provided epitopes are not included on the human proteome.\n",
      "\n"
     ]
    },
    {
     "name": "stdout",
     "output_type": "stream",
     "text": [
      "##------ Mon Jun 30 14:21:29 2025 ------##\n",
      "[1] \"Your results were saved as: HLA-A2902_PMGWGCLAQ.csv\"\n",
      "[1] \"From: 12812, there are 9 significant peptides (lower than 0.05)\"\n"
     ]
    },
    {
     "name": "stderr",
     "output_type": "stream",
     "text": [
      "Skipping expression and tissue plots for HLA-A2902_PMGWGCLAQ because: The provided epitopes are not included on the human proteome.\n",
      "\n"
     ]
    },
    {
     "name": "stdout",
     "output_type": "stream",
     "text": [
      "##------ Mon Jun 30 14:21:31 2025 ------##\n",
      "[1] \"Your results were saved as: HLA-A2902_MGWGCLAQA.csv\"\n",
      "[1] \"From: 12812, there are 35 significant peptides (lower than 0.05)\"\n"
     ]
    },
    {
     "name": "stderr",
     "output_type": "stream",
     "text": [
      "Warning message in .local(object, ...):\n",
      "“Found 1 peptides out of 1. Unmapped peptides: ”\n",
      "Warning message in max(abs(mat), na.rm = TRUE):\n",
      "“no non-missing arguments to max; returning -Inf”\n",
      "Skipping expression and tissue plots for HLA-A2902_MGWGCLAQA because: 'from' must be a finite number\n",
      "\n"
     ]
    },
    {
     "name": "stdout",
     "output_type": "stream",
     "text": [
      "##------ Mon Jun 30 14:21:32 2025 ------##\n",
      "[1] \"Your results were saved as: HLA-A2902_GWGCLAQAR.csv\"\n",
      "[1] \"From: 12812, there are 20 significant peptides (lower than 0.05)\"\n"
     ]
    },
    {
     "name": "stderr",
     "output_type": "stream",
     "text": [
      "Skipping expression and tissue plots for HLA-A2902_GWGCLAQAR because: The provided epitopes are not included on the human proteome.\n",
      "\n"
     ]
    },
    {
     "name": "stdout",
     "output_type": "stream",
     "text": [
      "##------ Mon Jun 30 14:21:34 2025 ------##\n",
      "[1] \"Your results were saved as: HLA-A2902_WGCLAQARA.csv\"\n",
      "[1] \"From: 12812, there are 32 significant peptides (lower than 0.05)\"\n"
     ]
    },
    {
     "name": "stderr",
     "output_type": "stream",
     "text": [
      "Skipping expression and tissue plots for HLA-A2902_WGCLAQARA because: The provided epitopes are not included on the human proteome.\n",
      "\n"
     ]
    },
    {
     "name": "stdout",
     "output_type": "stream",
     "text": [
      "##------ Mon Jun 30 14:21:35 2025 ------##\n",
      "[1] \"Your results were saved as: HLA-A2902_LRRSSAPFC.csv\"\n",
      "[1] \"From: 12812, there are 11 significant peptides (lower than 0.05)\"\n"
     ]
    },
    {
     "name": "stderr",
     "output_type": "stream",
     "text": [
      "Skipping expression and tissue plots for HLA-A2902_LRRSSAPFC because: The provided epitopes are not included on the human proteome.\n",
      "\n"
     ]
    },
    {
     "name": "stdout",
     "output_type": "stream",
     "text": [
      "##------ Mon Jun 30 14:21:36 2025 ------##\n",
      "[1] \"Your results were saved as: HLA-A2902_RRSSAPFCP.csv\"\n",
      "[1] \"From: 12812, there are 3 significant peptides (lower than 0.05)\"\n"
     ]
    },
    {
     "name": "stderr",
     "output_type": "stream",
     "text": [
      "Skipping expression and tissue plots for HLA-A2902_RRSSAPFCP because: The provided epitopes are not included on the human proteome.\n",
      "\n"
     ]
    },
    {
     "name": "stdout",
     "output_type": "stream",
     "text": [
      "##------ Mon Jun 30 14:21:37 2025 ------##\n",
      "[1] \"Your results were saved as: HLA-A2902_RSSAPFCPP.csv\"\n",
      "[1] \"From: 12812, there are 0 significant peptides (lower than 0.05)\"\n"
     ]
    },
    {
     "name": "stderr",
     "output_type": "stream",
     "text": [
      "Skipping expression and tissue plots for HLA-A2902_RSSAPFCPP because: The provided epitopes are not included on the human proteome.\n",
      "\n"
     ]
    },
    {
     "name": "stdout",
     "output_type": "stream",
     "text": [
      "##------ Mon Jun 30 14:21:38 2025 ------##\n",
      "[1] \"Your results were saved as: HLA-A2902_SSAPFCPPS.csv\"\n",
      "[1] \"From: 12812, there are 10 significant peptides (lower than 0.05)\"\n"
     ]
    },
    {
     "name": "stderr",
     "output_type": "stream",
     "text": [
      "Skipping expression and tissue plots for HLA-A2902_SSAPFCPPS because: The provided epitopes are not included on the human proteome.\n",
      "\n"
     ]
    },
    {
     "name": "stdout",
     "output_type": "stream",
     "text": [
      "##------ Mon Jun 30 14:21:39 2025 ------##\n",
      "[1] \"Your results were saved as: HLA-A2902_SAPFCPPSG.csv\"\n",
      "[1] \"From: 12812, there are 3 significant peptides (lower than 0.05)\"\n"
     ]
    },
    {
     "name": "stderr",
     "output_type": "stream",
     "text": [
      "Skipping expression and tissue plots for HLA-A2902_SAPFCPPSG because: The provided epitopes are not included on the human proteome.\n",
      "\n"
     ]
    },
    {
     "name": "stdout",
     "output_type": "stream",
     "text": [
      "##------ Mon Jun 30 14:21:41 2025 ------##\n",
      "[1] \"Your results were saved as: HLA-A2902_APFCPPSGP.csv\"\n",
      "[1] \"From: 12812, there are 4 significant peptides (lower than 0.05)\"\n"
     ]
    },
    {
     "name": "stderr",
     "output_type": "stream",
     "text": [
      "Skipping expression and tissue plots for HLA-A2902_APFCPPSGP because: The provided epitopes are not included on the human proteome.\n",
      "\n"
     ]
    },
    {
     "name": "stdout",
     "output_type": "stream",
     "text": [
      "##------ Mon Jun 30 14:21:42 2025 ------##\n",
      "[1] \"Your results were saved as: HLA-A2902_PFCPPSGPP.csv\"\n",
      "[1] \"From: 12812, there are 2 significant peptides (lower than 0.05)\"\n"
     ]
    },
    {
     "name": "stderr",
     "output_type": "stream",
     "text": [
      "Warning message in .local(object, ...):\n",
      "“Found 1 peptides out of 1. Unmapped peptides: ”\n",
      "Warning message in max(abs(mat), na.rm = TRUE):\n",
      "“no non-missing arguments to max; returning -Inf”\n",
      "Skipping expression and tissue plots for HLA-A2902_PFCPPSGPP because: 'from' must be a finite number\n",
      "\n"
     ]
    },
    {
     "name": "stdout",
     "output_type": "stream",
     "text": [
      "##------ Mon Jun 30 14:21:43 2025 ------##\n",
      "[1] \"Your results were saved as: HLA-A2902_FCPPSGPPE.csv\"\n",
      "[1] \"From: 12812, there are 0 significant peptides (lower than 0.05)\"\n"
     ]
    },
    {
     "name": "stderr",
     "output_type": "stream",
     "text": [
      "Skipping expression and tissue plots for HLA-A2902_FCPPSGPPE because: The provided epitopes are not included on the human proteome.\n",
      "\n"
     ]
    },
    {
     "name": "stdout",
     "output_type": "stream",
     "text": [
      "##------ Mon Jun 30 14:21:44 2025 ------##\n",
      "[1] \"Your results were saved as: HLA-A2902_CPPSGPPEK.csv\"\n",
      "[1] \"From: 12812, there are 2 significant peptides (lower than 0.05)\"\n"
     ]
    },
    {
     "name": "stderr",
     "output_type": "stream",
     "text": [
      "Skipping expression and tissue plots for HLA-A2902_CPPSGPPEK because: The provided epitopes are not included on the human proteome.\n",
      "\n"
     ]
    },
    {
     "name": "stdout",
     "output_type": "stream",
     "text": [
      "##------ Mon Jun 30 14:21:44 2025 ------##\n",
      "[1] \"Your results were saved as: HLA-A2902_LGTCKETFK.csv\"\n",
      "[1] \"From: 12812, there are 30 significant peptides (lower than 0.05)\"\n"
     ]
    },
    {
     "name": "stderr",
     "output_type": "stream",
     "text": [
      "Skipping expression and tissue plots for HLA-A2902_LGTCKETFK because: The provided epitopes are not included on the human proteome.\n",
      "\n"
     ]
    },
    {
     "name": "stdout",
     "output_type": "stream",
     "text": [
      "##------ Mon Jun 30 14:21:45 2025 ------##\n",
      "[1] \"Your results were saved as: HLA-A2902_LGTCKETFK.csv\"\n",
      "[1] \"From: 12812, there are 30 significant peptides (lower than 0.05)\"\n"
     ]
    },
    {
     "name": "stderr",
     "output_type": "stream",
     "text": [
      "Skipping expression and tissue plots for HLA-A2902_LGTCKETFK because: The provided epitopes are not included on the human proteome.\n",
      "\n"
     ]
    },
    {
     "name": "stdout",
     "output_type": "stream",
     "text": [
      "##------ Mon Jun 30 14:21:46 2025 ------##\n",
      "[1] \"Your results were saved as: HLA-A2902_GTCKETFKL.csv\"\n",
      "[1] \"From: 12812, there are 151 significant peptides (lower than 0.05)\"\n"
     ]
    },
    {
     "name": "stderr",
     "output_type": "stream",
     "text": [
      "Warning message in .local(object, ...):\n",
      "“Found 3 peptides out of 4. Unmapped peptides: GTSKIKMKW”\n"
     ]
    },
    {
     "name": "stdout",
     "output_type": "stream",
     "text": [
      "[1] \"Your heatmap presenting the gene donor expression profile was saved as: HLA-A2902_GTCKETFKL_expression_heatmap.pdf\"\n",
      "[1] \"Your Bar plot summarizing the tissue-specificity groups was saved as: HLA-A2902_GTCKETFKL_tissue_specificity.pdf\"\n"
     ]
    },
    {
     "name": "stderr",
     "output_type": "stream",
     "text": [
      "Warning message:\n",
      "“\u001b[1m\u001b[22mNo shared levels found between `names(values)` of the manual scale and the data's \u001b[32mcolour\u001b[39m values.”\n"
     ]
    },
    {
     "name": "stdout",
     "output_type": "stream",
     "text": [
      "[1] \"Your Heatmap combined with seqlogo displaying amino acid substitutions was saved as: HLA-A2902_GTCKETFKLcross_substitution.pdf\"\n",
      "##------ Mon Jun 30 14:21:48 2025 ------##\n",
      "[1] \"Your results were saved as: HLA-A2902_GTCKETFKL.csv\"\n",
      "[1] \"From: 12812, there are 151 significant peptides (lower than 0.05)\"\n"
     ]
    },
    {
     "name": "stderr",
     "output_type": "stream",
     "text": [
      "Warning message in .local(object, ...):\n",
      "“Found 3 peptides out of 4. Unmapped peptides: GTSKIKMKW”\n"
     ]
    },
    {
     "name": "stdout",
     "output_type": "stream",
     "text": [
      "[1] \"Your heatmap presenting the gene donor expression profile was saved as: HLA-A2902_GTCKETFKL_expression_heatmap.pdf\"\n",
      "[1] \"Your Bar plot summarizing the tissue-specificity groups was saved as: HLA-A2902_GTCKETFKL_tissue_specificity.pdf\"\n"
     ]
    },
    {
     "name": "stderr",
     "output_type": "stream",
     "text": [
      "Warning message:\n",
      "“\u001b[1m\u001b[22mNo shared levels found between `names(values)` of the manual scale and the data's \u001b[32mcolour\u001b[39m values.”\n"
     ]
    },
    {
     "name": "stdout",
     "output_type": "stream",
     "text": [
      "[1] \"Your Heatmap combined with seqlogo displaying amino acid substitutions was saved as: HLA-A2902_GTCKETFKLcross_substitution.pdf\"\n",
      "##------ Mon Jun 30 14:21:50 2025 ------##\n",
      "[1] \"Your results were saved as: HLA-A2902_TCKETFKLY.csv\"\n",
      "[1] \"From: 12812, there are 699 significant peptides (lower than 0.05)\"\n"
     ]
    },
    {
     "name": "stderr",
     "output_type": "stream",
     "text": [
      "Warning message in .local(object, ...):\n",
      "“Found 26 peptides out of 26. Unmapped peptides: ”\n"
     ]
    },
    {
     "name": "stdout",
     "output_type": "stream",
     "text": [
      "[1] \"Your heatmap presenting the gene donor expression profile was saved as: HLA-A2902_TCKETFKLY_expression_heatmap.pdf\"\n",
      "[1] \"Your Bar plot summarizing the tissue-specificity groups was saved as: HLA-A2902_TCKETFKLY_tissue_specificity.pdf\"\n"
     ]
    },
    {
     "name": "stderr",
     "output_type": "stream",
     "text": [
      "Warning message:\n",
      "“\u001b[1m\u001b[22mNo shared levels found between `names(values)` of the manual scale and the data's \u001b[32mcolour\u001b[39m values.”\n"
     ]
    },
    {
     "name": "stdout",
     "output_type": "stream",
     "text": [
      "[1] \"Your Heatmap combined with seqlogo displaying amino acid substitutions was saved as: HLA-A2902_TCKETFKLYcross_substitution.pdf\"\n",
      "##------ Mon Jun 30 14:21:52 2025 ------##\n",
      "[1] \"Your results were saved as: HLA-A2902_TCKETFKLY.csv\"\n",
      "[1] \"From: 12812, there are 699 significant peptides (lower than 0.05)\"\n"
     ]
    },
    {
     "name": "stderr",
     "output_type": "stream",
     "text": [
      "Warning message in .local(object, ...):\n",
      "“Found 26 peptides out of 26. Unmapped peptides: ”\n"
     ]
    },
    {
     "name": "stdout",
     "output_type": "stream",
     "text": [
      "[1] \"Your heatmap presenting the gene donor expression profile was saved as: HLA-A2902_TCKETFKLY_expression_heatmap.pdf\"\n",
      "[1] \"Your Bar plot summarizing the tissue-specificity groups was saved as: HLA-A2902_TCKETFKLY_tissue_specificity.pdf\"\n"
     ]
    },
    {
     "name": "stderr",
     "output_type": "stream",
     "text": [
      "Warning message:\n",
      "“\u001b[1m\u001b[22mNo shared levels found between `names(values)` of the manual scale and the data's \u001b[32mcolour\u001b[39m values.”\n"
     ]
    },
    {
     "name": "stdout",
     "output_type": "stream",
     "text": [
      "[1] \"Your Heatmap combined with seqlogo displaying amino acid substitutions was saved as: HLA-A2902_TCKETFKLYcross_substitution.pdf\"\n",
      "##------ Mon Jun 30 14:21:53 2025 ------##\n",
      "[1] \"Your results were saved as: HLA-A2902_CKETFKLYY.csv\"\n",
      "[1] \"From: 12812, there are 928 significant peptides (lower than 0.05)\"\n"
     ]
    },
    {
     "name": "stderr",
     "output_type": "stream",
     "text": [
      "Warning message in .local(object, ...):\n",
      "“Found 32 peptides out of 35. Unmapped peptides: TEETFKLSY,CKNFLKQVY,CMLTEFLHY”\n"
     ]
    },
    {
     "name": "stdout",
     "output_type": "stream",
     "text": [
      "[1] \"Your heatmap presenting the gene donor expression profile was saved as: HLA-A2902_CKETFKLYY_expression_heatmap.pdf\"\n",
      "[1] \"Your Bar plot summarizing the tissue-specificity groups was saved as: HLA-A2902_CKETFKLYY_tissue_specificity.pdf\"\n"
     ]
    },
    {
     "name": "stderr",
     "output_type": "stream",
     "text": [
      "Warning message:\n",
      "“\u001b[1m\u001b[22mNo shared levels found between `names(values)` of the manual scale and the data's \u001b[32mcolour\u001b[39m values.”\n"
     ]
    },
    {
     "name": "stdout",
     "output_type": "stream",
     "text": [
      "[1] \"Your Heatmap combined with seqlogo displaying amino acid substitutions was saved as: HLA-A2902_CKETFKLYYcross_substitution.pdf\"\n",
      "##------ Mon Jun 30 14:21:55 2025 ------##\n",
      "[1] \"Your results were saved as: HLA-A2902_CKETFKLYY.csv\"\n",
      "[1] \"From: 12812, there are 928 significant peptides (lower than 0.05)\"\n"
     ]
    },
    {
     "name": "stderr",
     "output_type": "stream",
     "text": [
      "Warning message in .local(object, ...):\n",
      "“Found 32 peptides out of 35. Unmapped peptides: TEETFKLSY,CKNFLKQVY,CMLTEFLHY”\n"
     ]
    },
    {
     "name": "stdout",
     "output_type": "stream",
     "text": [
      "[1] \"Your heatmap presenting the gene donor expression profile was saved as: HLA-A2902_CKETFKLYY_expression_heatmap.pdf\"\n",
      "[1] \"Your Bar plot summarizing the tissue-specificity groups was saved as: HLA-A2902_CKETFKLYY_tissue_specificity.pdf\"\n"
     ]
    },
    {
     "name": "stderr",
     "output_type": "stream",
     "text": [
      "Warning message:\n",
      "“\u001b[1m\u001b[22mNo shared levels found between `names(values)` of the manual scale and the data's \u001b[32mcolour\u001b[39m values.”\n"
     ]
    },
    {
     "name": "stdout",
     "output_type": "stream",
     "text": [
      "[1] \"Your Heatmap combined with seqlogo displaying amino acid substitutions was saved as: HLA-A2902_CKETFKLYYcross_substitution.pdf\"\n",
      "##------ Mon Jun 30 14:21:56 2025 ------##\n",
      "[1] \"Your results were saved as: HLA-A2902_KETFKLYYL.csv\"\n",
      "[1] \"From: 12812, there are 678 significant peptides (lower than 0.05)\"\n"
     ]
    },
    {
     "name": "stderr",
     "output_type": "stream",
     "text": [
      "Warning message in .local(object, ...):\n",
      "“Found 24 peptides out of 31. Unmapped peptides: KEAVNHFHL,KYTQLCQYL,KSAFYQSYL,NETTQALQL,LYIIKLVFL,CYNFKVQFL,KYLLNVSYL”\n"
     ]
    },
    {
     "name": "stdout",
     "output_type": "stream",
     "text": [
      "[1] \"Your heatmap presenting the gene donor expression profile was saved as: HLA-A2902_KETFKLYYL_expression_heatmap.pdf\"\n",
      "[1] \"Your Bar plot summarizing the tissue-specificity groups was saved as: HLA-A2902_KETFKLYYL_tissue_specificity.pdf\"\n"
     ]
    },
    {
     "name": "stderr",
     "output_type": "stream",
     "text": [
      "Warning message:\n",
      "“\u001b[1m\u001b[22mNo shared levels found between `names(values)` of the manual scale and the data's \u001b[32mcolour\u001b[39m values.”\n"
     ]
    },
    {
     "name": "stdout",
     "output_type": "stream",
     "text": [
      "[1] \"Your Heatmap combined with seqlogo displaying amino acid substitutions was saved as: HLA-A2902_KETFKLYYLcross_substitution.pdf\"\n",
      "##------ Mon Jun 30 14:21:58 2025 ------##\n",
      "[1] \"Your results were saved as: HLA-A2902_KETFKLYYL.csv\"\n",
      "[1] \"From: 12812, there are 678 significant peptides (lower than 0.05)\"\n"
     ]
    },
    {
     "name": "stderr",
     "output_type": "stream",
     "text": [
      "Warning message in .local(object, ...):\n",
      "“Found 24 peptides out of 31. Unmapped peptides: KEAVNHFHL,KYTQLCQYL,KSAFYQSYL,NETTQALQL,LYIIKLVFL,CYNFKVQFL,KYLLNVSYL”\n"
     ]
    },
    {
     "name": "stdout",
     "output_type": "stream",
     "text": [
      "[1] \"Your heatmap presenting the gene donor expression profile was saved as: HLA-A2902_KETFKLYYL_expression_heatmap.pdf\"\n",
      "[1] \"Your Bar plot summarizing the tissue-specificity groups was saved as: HLA-A2902_KETFKLYYL_tissue_specificity.pdf\"\n"
     ]
    },
    {
     "name": "stderr",
     "output_type": "stream",
     "text": [
      "Warning message:\n",
      "“\u001b[1m\u001b[22mNo shared levels found between `names(values)` of the manual scale and the data's \u001b[32mcolour\u001b[39m values.”\n"
     ]
    },
    {
     "name": "stdout",
     "output_type": "stream",
     "text": [
      "[1] \"Your Heatmap combined with seqlogo displaying amino acid substitutions was saved as: HLA-A2902_KETFKLYYLcross_substitution.pdf\"\n",
      "##------ Mon Jun 30 14:21:59 2025 ------##\n",
      "[1] \"Your results were saved as: HLA-A2902_ETFKLYYLE.csv\"\n",
      "[1] \"From: 12812, there are 473 significant peptides (lower than 0.05)\"\n"
     ]
    },
    {
     "name": "stderr",
     "output_type": "stream",
     "text": [
      "Warning message in .local(object, ...):\n",
      "“Found 5 peptides out of 6. Unmapped peptides: ETTQALQLF”\n"
     ]
    },
    {
     "name": "stdout",
     "output_type": "stream",
     "text": [
      "[1] \"Your heatmap presenting the gene donor expression profile was saved as: HLA-A2902_ETFKLYYLE_expression_heatmap.pdf\"\n",
      "[1] \"Your Bar plot summarizing the tissue-specificity groups was saved as: HLA-A2902_ETFKLYYLE_tissue_specificity.pdf\"\n"
     ]
    },
    {
     "name": "stderr",
     "output_type": "stream",
     "text": [
      "Warning message:\n",
      "“\u001b[1m\u001b[22mNo shared levels found between `names(values)` of the manual scale and the data's \u001b[32mcolour\u001b[39m values.”\n"
     ]
    },
    {
     "name": "stdout",
     "output_type": "stream",
     "text": [
      "[1] \"Your Heatmap combined with seqlogo displaying amino acid substitutions was saved as: HLA-A2902_ETFKLYYLEcross_substitution.pdf\"\n",
      "##------ Mon Jun 30 14:22:01 2025 ------##\n",
      "[1] \"Your results were saved as: HLA-A2902_ETFKLYYLE.csv\"\n",
      "[1] \"From: 12812, there are 473 significant peptides (lower than 0.05)\"\n"
     ]
    },
    {
     "name": "stderr",
     "output_type": "stream",
     "text": [
      "Warning message in .local(object, ...):\n",
      "“Found 5 peptides out of 6. Unmapped peptides: ETTQALQLF”\n"
     ]
    },
    {
     "name": "stdout",
     "output_type": "stream",
     "text": [
      "[1] \"Your heatmap presenting the gene donor expression profile was saved as: HLA-A2902_ETFKLYYLE_expression_heatmap.pdf\"\n",
      "[1] \"Your Bar plot summarizing the tissue-specificity groups was saved as: HLA-A2902_ETFKLYYLE_tissue_specificity.pdf\"\n"
     ]
    },
    {
     "name": "stderr",
     "output_type": "stream",
     "text": [
      "Warning message:\n",
      "“\u001b[1m\u001b[22mNo shared levels found between `names(values)` of the manual scale and the data's \u001b[32mcolour\u001b[39m values.”\n"
     ]
    },
    {
     "name": "stdout",
     "output_type": "stream",
     "text": [
      "[1] \"Your Heatmap combined with seqlogo displaying amino acid substitutions was saved as: HLA-A2902_ETFKLYYLEcross_substitution.pdf\"\n",
      "##------ Mon Jun 30 14:22:03 2025 ------##\n",
      "[1] \"Your results were saved as: HLA-A2902_TFKLYYLES.csv\"\n",
      "[1] \"From: 12812, there are 586 significant peptides (lower than 0.05)\"\n"
     ]
    },
    {
     "name": "stderr",
     "output_type": "stream",
     "text": [
      "Warning message in .local(object, ...):\n",
      "“Found 19 peptides out of 19. Unmapped peptides: ”\n",
      "Skipping expression and tissue plots for HLA-A2902_TFKLYYLES because: NA/NaN/Inf in foreign function call (arg 10)\n",
      "\n"
     ]
    },
    {
     "name": "stdout",
     "output_type": "stream",
     "text": [
      "##------ Mon Jun 30 14:22:04 2025 ------##\n",
      "[1] \"Your results were saved as: HLA-A2902_TFKLYYLES.csv\"\n",
      "[1] \"From: 12812, there are 586 significant peptides (lower than 0.05)\"\n"
     ]
    },
    {
     "name": "stderr",
     "output_type": "stream",
     "text": [
      "Warning message in .local(object, ...):\n",
      "“Found 19 peptides out of 19. Unmapped peptides: ”\n",
      "Skipping expression and tissue plots for HLA-A2902_TFKLYYLES because: NA/NaN/Inf in foreign function call (arg 10)\n",
      "\n"
     ]
    },
    {
     "name": "stdout",
     "output_type": "stream",
     "text": [
      "##------ Mon Jun 30 14:22:05 2025 ------##\n",
      "[1] \"Your results were saved as: HLA-A2902_FKLYYLESD.csv\"\n",
      "[1] \"From: 12812, there are 340 significant peptides (lower than 0.05)\"\n"
     ]
    },
    {
     "name": "stderr",
     "output_type": "stream",
     "text": [
      "Warning message in .local(object, ...):\n",
      "“Found 5 peptides out of 7. Unmapped peptides: FELLHFISS,FHIVNQESL”\n"
     ]
    },
    {
     "name": "stdout",
     "output_type": "stream",
     "text": [
      "[1] \"Your heatmap presenting the gene donor expression profile was saved as: HLA-A2902_FKLYYLESD_expression_heatmap.pdf\"\n",
      "[1] \"Your Bar plot summarizing the tissue-specificity groups was saved as: HLA-A2902_FKLYYLESD_tissue_specificity.pdf\"\n"
     ]
    },
    {
     "name": "stderr",
     "output_type": "stream",
     "text": [
      "Warning message:\n",
      "“\u001b[1m\u001b[22mNo shared levels found between `names(values)` of the manual scale and the data's \u001b[32mcolour\u001b[39m values.”\n"
     ]
    },
    {
     "name": "stdout",
     "output_type": "stream",
     "text": [
      "[1] \"Your Heatmap combined with seqlogo displaying amino acid substitutions was saved as: HLA-A2902_FKLYYLESDcross_substitution.pdf\"\n",
      "##------ Mon Jun 30 14:22:06 2025 ------##\n",
      "[1] \"Your results were saved as: HLA-A2902_FKLYYLESD.csv\"\n",
      "[1] \"From: 12812, there are 340 significant peptides (lower than 0.05)\"\n"
     ]
    },
    {
     "name": "stderr",
     "output_type": "stream",
     "text": [
      "Warning message in .local(object, ...):\n",
      "“Found 5 peptides out of 7. Unmapped peptides: FELLHFISS,FHIVNQESL”\n"
     ]
    },
    {
     "name": "stdout",
     "output_type": "stream",
     "text": [
      "[1] \"Your heatmap presenting the gene donor expression profile was saved as: HLA-A2902_FKLYYLESD_expression_heatmap.pdf\"\n",
      "[1] \"Your Bar plot summarizing the tissue-specificity groups was saved as: HLA-A2902_FKLYYLESD_tissue_specificity.pdf\"\n"
     ]
    },
    {
     "name": "stderr",
     "output_type": "stream",
     "text": [
      "Warning message:\n",
      "“\u001b[1m\u001b[22mNo shared levels found between `names(values)` of the manual scale and the data's \u001b[32mcolour\u001b[39m values.”\n"
     ]
    },
    {
     "name": "stdout",
     "output_type": "stream",
     "text": [
      "[1] \"Your Heatmap combined with seqlogo displaying amino acid substitutions was saved as: HLA-A2902_FKLYYLESDcross_substitution.pdf\"\n",
      "##------ Mon Jun 30 14:22:08 2025 ------##\n",
      "[1] \"Your results were saved as: HLA-A2902_KLYYLESDR.csv\"\n",
      "[1] \"From: 12812, there are 112 significant peptides (lower than 0.05)\"\n"
     ]
    },
    {
     "name": "stderr",
     "output_type": "stream",
     "text": [
      "Warning message in .local(object, ...):\n",
      "“Found 5 peptides out of 5. Unmapped peptides: ”\n"
     ]
    },
    {
     "name": "stdout",
     "output_type": "stream",
     "text": [
      "[1] \"Your heatmap presenting the gene donor expression profile was saved as: HLA-A2902_KLYYLESDR_expression_heatmap.pdf\"\n",
      "[1] \"Your Bar plot summarizing the tissue-specificity groups was saved as: HLA-A2902_KLYYLESDR_tissue_specificity.pdf\"\n"
     ]
    },
    {
     "name": "stderr",
     "output_type": "stream",
     "text": [
      "Warning message:\n",
      "“\u001b[1m\u001b[22mNo shared levels found between `names(values)` of the manual scale and the data's \u001b[32mcolour\u001b[39m values.”\n"
     ]
    },
    {
     "name": "stdout",
     "output_type": "stream",
     "text": [
      "[1] \"Your Heatmap combined with seqlogo displaying amino acid substitutions was saved as: HLA-A2902_KLYYLESDRcross_substitution.pdf\"\n",
      "##------ Mon Jun 30 14:22:09 2025 ------##\n",
      "[1] \"Your results were saved as: HLA-A2902_KLYYLESDR.csv\"\n",
      "[1] \"From: 12812, there are 112 significant peptides (lower than 0.05)\"\n"
     ]
    },
    {
     "name": "stderr",
     "output_type": "stream",
     "text": [
      "Warning message in .local(object, ...):\n",
      "“Found 5 peptides out of 5. Unmapped peptides: ”\n"
     ]
    },
    {
     "name": "stdout",
     "output_type": "stream",
     "text": [
      "[1] \"Your heatmap presenting the gene donor expression profile was saved as: HLA-A2902_KLYYLESDR_expression_heatmap.pdf\"\n",
      "[1] \"Your Bar plot summarizing the tissue-specificity groups was saved as: HLA-A2902_KLYYLESDR_tissue_specificity.pdf\"\n"
     ]
    },
    {
     "name": "stderr",
     "output_type": "stream",
     "text": [
      "Warning message:\n",
      "“\u001b[1m\u001b[22mNo shared levels found between `names(values)` of the manual scale and the data's \u001b[32mcolour\u001b[39m values.”\n"
     ]
    },
    {
     "name": "stdout",
     "output_type": "stream",
     "text": [
      "[1] \"Your Heatmap combined with seqlogo displaying amino acid substitutions was saved as: HLA-A2902_KLYYLESDRcross_substitution.pdf\"\n",
      "##------ Mon Jun 30 14:22:11 2025 ------##\n",
      "[1] \"Your results were saved as: HLA-A2902_DYKATQKIT.csv\"\n",
      "[1] \"From: 12812, there are 198 significant peptides (lower than 0.05)\"\n"
     ]
    },
    {
     "name": "stderr",
     "output_type": "stream",
     "text": [
      "Warning message in .local(object, ...):\n",
      "“Found 2 peptides out of 2. Unmapped peptides: ”\n"
     ]
    },
    {
     "name": "stdout",
     "output_type": "stream",
     "text": [
      "[1] \"Your heatmap presenting the gene donor expression profile was saved as: HLA-A2902_DYKATQKIT_expression_heatmap.pdf\"\n",
      "[1] \"Your Bar plot summarizing the tissue-specificity groups was saved as: HLA-A2902_DYKATQKIT_tissue_specificity.pdf\"\n"
     ]
    },
    {
     "name": "stderr",
     "output_type": "stream",
     "text": [
      "Warning message:\n",
      "“\u001b[1m\u001b[22mNo shared levels found between `names(values)` of the manual scale and the data's \u001b[32mcolour\u001b[39m values.”\n"
     ]
    },
    {
     "name": "stdout",
     "output_type": "stream",
     "text": [
      "[1] \"Your Heatmap combined with seqlogo displaying amino acid substitutions was saved as: HLA-A2902_DYKATQKITcross_substitution.pdf\"\n",
      "##------ Mon Jun 30 14:22:12 2025 ------##\n",
      "[1] \"Your results were saved as: HLA-A2902_DYKATQKIT.csv\"\n",
      "[1] \"From: 12812, there are 198 significant peptides (lower than 0.05)\"\n"
     ]
    },
    {
     "name": "stderr",
     "output_type": "stream",
     "text": [
      "Warning message in .local(object, ...):\n",
      "“Found 2 peptides out of 2. Unmapped peptides: ”\n"
     ]
    },
    {
     "name": "stdout",
     "output_type": "stream",
     "text": [
      "[1] \"Your heatmap presenting the gene donor expression profile was saved as: HLA-A2902_DYKATQKIT_expression_heatmap.pdf\"\n",
      "[1] \"Your Bar plot summarizing the tissue-specificity groups was saved as: HLA-A2902_DYKATQKIT_tissue_specificity.pdf\"\n"
     ]
    },
    {
     "name": "stderr",
     "output_type": "stream",
     "text": [
      "Warning message:\n",
      "“\u001b[1m\u001b[22mNo shared levels found between `names(values)` of the manual scale and the data's \u001b[32mcolour\u001b[39m values.”\n"
     ]
    },
    {
     "name": "stdout",
     "output_type": "stream",
     "text": [
      "[1] \"Your Heatmap combined with seqlogo displaying amino acid substitutions was saved as: HLA-A2902_DYKATQKITcross_substitution.pdf\"\n",
      "##------ Mon Jun 30 14:22:14 2025 ------##\n",
      "[1] \"Your results were saved as: HLA-A2902_DYKATQKIT.csv\"\n",
      "[1] \"From: 12812, there are 198 significant peptides (lower than 0.05)\"\n"
     ]
    },
    {
     "name": "stderr",
     "output_type": "stream",
     "text": [
      "Warning message in .local(object, ...):\n",
      "“Found 2 peptides out of 2. Unmapped peptides: ”\n"
     ]
    },
    {
     "name": "stdout",
     "output_type": "stream",
     "text": [
      "[1] \"Your heatmap presenting the gene donor expression profile was saved as: HLA-A2902_DYKATQKIT_expression_heatmap.pdf\"\n",
      "[1] \"Your Bar plot summarizing the tissue-specificity groups was saved as: HLA-A2902_DYKATQKIT_tissue_specificity.pdf\"\n"
     ]
    },
    {
     "name": "stderr",
     "output_type": "stream",
     "text": [
      "Warning message:\n",
      "“\u001b[1m\u001b[22mNo shared levels found between `names(values)` of the manual scale and the data's \u001b[32mcolour\u001b[39m values.”\n"
     ]
    },
    {
     "name": "stdout",
     "output_type": "stream",
     "text": [
      "[1] \"Your Heatmap combined with seqlogo displaying amino acid substitutions was saved as: HLA-A2902_DYKATQKITcross_substitution.pdf\"\n",
      "##------ Mon Jun 30 14:22:15 2025 ------##\n",
      "[1] \"Your results were saved as: HLA-A2902_YKATQKITF.csv\"\n",
      "[1] \"From: 12812, there are 682 significant peptides (lower than 0.05)\"\n"
     ]
    },
    {
     "name": "stderr",
     "output_type": "stream",
     "text": [
      "Warning message in .local(object, ...):\n",
      "“Found 6 peptides out of 9. Unmapped peptides: YFANNKFTL,YSSSRKVTY,FFVESKVTY”\n"
     ]
    },
    {
     "name": "stdout",
     "output_type": "stream",
     "text": [
      "[1] \"Your heatmap presenting the gene donor expression profile was saved as: HLA-A2902_YKATQKITF_expression_heatmap.pdf\"\n",
      "[1] \"Your Bar plot summarizing the tissue-specificity groups was saved as: HLA-A2902_YKATQKITF_tissue_specificity.pdf\"\n"
     ]
    },
    {
     "name": "stderr",
     "output_type": "stream",
     "text": [
      "Warning message:\n",
      "“\u001b[1m\u001b[22mNo shared levels found between `names(values)` of the manual scale and the data's \u001b[32mcolour\u001b[39m values.”\n"
     ]
    },
    {
     "name": "stdout",
     "output_type": "stream",
     "text": [
      "[1] \"Your Heatmap combined with seqlogo displaying amino acid substitutions was saved as: HLA-A2902_YKATQKITFcross_substitution.pdf\"\n",
      "##------ Mon Jun 30 14:22:17 2025 ------##\n",
      "[1] \"Your results were saved as: HLA-A2902_YKATQKITF.csv\"\n",
      "[1] \"From: 12812, there are 682 significant peptides (lower than 0.05)\"\n"
     ]
    },
    {
     "name": "stderr",
     "output_type": "stream",
     "text": [
      "Warning message in .local(object, ...):\n",
      "“Found 6 peptides out of 9. Unmapped peptides: YFANNKFTL,YSSSRKVTY,FFVESKVTY”\n"
     ]
    },
    {
     "name": "stdout",
     "output_type": "stream",
     "text": [
      "[1] \"Your heatmap presenting the gene donor expression profile was saved as: HLA-A2902_YKATQKITF_expression_heatmap.pdf\"\n",
      "[1] \"Your Bar plot summarizing the tissue-specificity groups was saved as: HLA-A2902_YKATQKITF_tissue_specificity.pdf\"\n"
     ]
    },
    {
     "name": "stderr",
     "output_type": "stream",
     "text": [
      "Warning message:\n",
      "“\u001b[1m\u001b[22mNo shared levels found between `names(values)` of the manual scale and the data's \u001b[32mcolour\u001b[39m values.”\n"
     ]
    },
    {
     "name": "stdout",
     "output_type": "stream",
     "text": [
      "[1] \"Your Heatmap combined with seqlogo displaying amino acid substitutions was saved as: HLA-A2902_YKATQKITFcross_substitution.pdf\"\n",
      "##------ Mon Jun 30 14:22:19 2025 ------##\n",
      "[1] \"Your results were saved as: HLA-A2902_YKATQKITF.csv\"\n",
      "[1] \"From: 12812, there are 682 significant peptides (lower than 0.05)\"\n"
     ]
    },
    {
     "name": "stderr",
     "output_type": "stream",
     "text": [
      "Warning message in .local(object, ...):\n",
      "“Found 6 peptides out of 9. Unmapped peptides: YFANNKFTL,YSSSRKVTY,FFVESKVTY”\n"
     ]
    },
    {
     "name": "stdout",
     "output_type": "stream",
     "text": [
      "[1] \"Your heatmap presenting the gene donor expression profile was saved as: HLA-A2902_YKATQKITF_expression_heatmap.pdf\"\n",
      "[1] \"Your Bar plot summarizing the tissue-specificity groups was saved as: HLA-A2902_YKATQKITF_tissue_specificity.pdf\"\n"
     ]
    },
    {
     "name": "stderr",
     "output_type": "stream",
     "text": [
      "Warning message:\n",
      "“\u001b[1m\u001b[22mNo shared levels found between `names(values)` of the manual scale and the data's \u001b[32mcolour\u001b[39m values.”\n"
     ]
    },
    {
     "name": "stdout",
     "output_type": "stream",
     "text": [
      "[1] \"Your Heatmap combined with seqlogo displaying amino acid substitutions was saved as: HLA-A2902_YKATQKITFcross_substitution.pdf\"\n",
      "##------ Mon Jun 30 14:22:20 2025 ------##\n",
      "[1] \"Your results were saved as: HLA-A2902_KATQKITFS.csv\"\n",
      "[1] \"From: 12812, there are 343 significant peptides (lower than 0.05)\"\n"
     ]
    },
    {
     "name": "stderr",
     "output_type": "stream",
     "text": [
      "Warning message in .local(object, ...):\n",
      "“Found 7 peptides out of 9. Unmapped peptides: KAGQYVTIW,KAYKIISLK”\n"
     ]
    },
    {
     "name": "stdout",
     "output_type": "stream",
     "text": [
      "[1] \"Your heatmap presenting the gene donor expression profile was saved as: HLA-A2902_KATQKITFS_expression_heatmap.pdf\"\n",
      "[1] \"Your Bar plot summarizing the tissue-specificity groups was saved as: HLA-A2902_KATQKITFS_tissue_specificity.pdf\"\n"
     ]
    },
    {
     "name": "stderr",
     "output_type": "stream",
     "text": [
      "Warning message:\n",
      "“\u001b[1m\u001b[22mNo shared levels found between `names(values)` of the manual scale and the data's \u001b[32mcolour\u001b[39m values.”\n"
     ]
    },
    {
     "name": "stdout",
     "output_type": "stream",
     "text": [
      "[1] \"Your Heatmap combined with seqlogo displaying amino acid substitutions was saved as: HLA-A2902_KATQKITFScross_substitution.pdf\"\n",
      "##------ Mon Jun 30 14:22:22 2025 ------##\n",
      "[1] \"Your results were saved as: HLA-A2902_KATQKITFS.csv\"\n",
      "[1] \"From: 12812, there are 343 significant peptides (lower than 0.05)\"\n"
     ]
    },
    {
     "name": "stderr",
     "output_type": "stream",
     "text": [
      "Warning message in .local(object, ...):\n",
      "“Found 7 peptides out of 9. Unmapped peptides: KAGQYVTIW,KAYKIISLK”\n"
     ]
    },
    {
     "name": "stdout",
     "output_type": "stream",
     "text": [
      "[1] \"Your heatmap presenting the gene donor expression profile was saved as: HLA-A2902_KATQKITFS_expression_heatmap.pdf\"\n",
      "[1] \"Your Bar plot summarizing the tissue-specificity groups was saved as: HLA-A2902_KATQKITFS_tissue_specificity.pdf\"\n"
     ]
    },
    {
     "name": "stderr",
     "output_type": "stream",
     "text": [
      "Warning message:\n",
      "“\u001b[1m\u001b[22mNo shared levels found between `names(values)` of the manual scale and the data's \u001b[32mcolour\u001b[39m values.”\n"
     ]
    },
    {
     "name": "stdout",
     "output_type": "stream",
     "text": [
      "[1] \"Your Heatmap combined with seqlogo displaying amino acid substitutions was saved as: HLA-A2902_KATQKITFScross_substitution.pdf\"\n",
      "##------ Mon Jun 30 14:22:24 2025 ------##\n",
      "[1] \"Your results were saved as: HLA-A2902_KATQKITFS.csv\"\n",
      "[1] \"From: 12812, there are 343 significant peptides (lower than 0.05)\"\n"
     ]
    },
    {
     "name": "stderr",
     "output_type": "stream",
     "text": [
      "Warning message in .local(object, ...):\n",
      "“Found 7 peptides out of 9. Unmapped peptides: KAGQYVTIW,KAYKIISLK”\n"
     ]
    },
    {
     "name": "stdout",
     "output_type": "stream",
     "text": [
      "[1] \"Your heatmap presenting the gene donor expression profile was saved as: HLA-A2902_KATQKITFS_expression_heatmap.pdf\"\n",
      "[1] \"Your Bar plot summarizing the tissue-specificity groups was saved as: HLA-A2902_KATQKITFS_tissue_specificity.pdf\"\n"
     ]
    },
    {
     "name": "stderr",
     "output_type": "stream",
     "text": [
      "Warning message:\n",
      "“\u001b[1m\u001b[22mNo shared levels found between `names(values)` of the manual scale and the data's \u001b[32mcolour\u001b[39m values.”\n"
     ]
    },
    {
     "name": "stdout",
     "output_type": "stream",
     "text": [
      "[1] \"Your Heatmap combined with seqlogo displaying amino acid substitutions was saved as: HLA-A2902_KATQKITFScross_substitution.pdf\"\n",
      "##------ Mon Jun 30 14:22:26 2025 ------##\n",
      "[1] \"Your results were saved as: HLA-A2902_ATQKITFSA.csv\"\n",
      "[1] \"From: 12812, there are 537 significant peptides (lower than 0.05)\"\n"
     ]
    },
    {
     "name": "stderr",
     "output_type": "stream",
     "text": [
      "Warning message in .local(object, ...):\n",
      "“Found 15 peptides out of 16. Unmapped peptides: LQKKIVLSN”\n"
     ]
    },
    {
     "name": "stdout",
     "output_type": "stream",
     "text": [
      "[1] \"Your heatmap presenting the gene donor expression profile was saved as: HLA-A2902_ATQKITFSA_expression_heatmap.pdf\"\n",
      "[1] \"Your Bar plot summarizing the tissue-specificity groups was saved as: HLA-A2902_ATQKITFSA_tissue_specificity.pdf\"\n"
     ]
    },
    {
     "name": "stderr",
     "output_type": "stream",
     "text": [
      "Warning message:\n",
      "“\u001b[1m\u001b[22mNo shared levels found between `names(values)` of the manual scale and the data's \u001b[32mcolour\u001b[39m values.”\n"
     ]
    },
    {
     "name": "stdout",
     "output_type": "stream",
     "text": [
      "[1] \"Your Heatmap combined with seqlogo displaying amino acid substitutions was saved as: HLA-A2902_ATQKITFSAcross_substitution.pdf\"\n",
      "##------ Mon Jun 30 14:22:27 2025 ------##\n",
      "[1] \"Your results were saved as: HLA-A2902_ATQKITFSA.csv\"\n",
      "[1] \"From: 12812, there are 537 significant peptides (lower than 0.05)\"\n"
     ]
    },
    {
     "name": "stderr",
     "output_type": "stream",
     "text": [
      "Warning message in .local(object, ...):\n",
      "“Found 15 peptides out of 16. Unmapped peptides: LQKKIVLSN”\n"
     ]
    },
    {
     "name": "stdout",
     "output_type": "stream",
     "text": [
      "[1] \"Your heatmap presenting the gene donor expression profile was saved as: HLA-A2902_ATQKITFSA_expression_heatmap.pdf\"\n",
      "[1] \"Your Bar plot summarizing the tissue-specificity groups was saved as: HLA-A2902_ATQKITFSA_tissue_specificity.pdf\"\n"
     ]
    },
    {
     "name": "stderr",
     "output_type": "stream",
     "text": [
      "Warning message:\n",
      "“\u001b[1m\u001b[22mNo shared levels found between `names(values)` of the manual scale and the data's \u001b[32mcolour\u001b[39m values.”\n"
     ]
    },
    {
     "name": "stdout",
     "output_type": "stream",
     "text": [
      "[1] \"Your Heatmap combined with seqlogo displaying amino acid substitutions was saved as: HLA-A2902_ATQKITFSAcross_substitution.pdf\"\n",
      "##------ Mon Jun 30 14:22:29 2025 ------##\n",
      "[1] \"Your results were saved as: HLA-A2902_ATQKITFSA.csv\"\n",
      "[1] \"From: 12812, there are 537 significant peptides (lower than 0.05)\"\n"
     ]
    },
    {
     "name": "stderr",
     "output_type": "stream",
     "text": [
      "Warning message in .local(object, ...):\n",
      "“Found 15 peptides out of 16. Unmapped peptides: LQKKIVLSN”\n"
     ]
    },
    {
     "name": "stdout",
     "output_type": "stream",
     "text": [
      "[1] \"Your heatmap presenting the gene donor expression profile was saved as: HLA-A2902_ATQKITFSA_expression_heatmap.pdf\"\n",
      "[1] \"Your Bar plot summarizing the tissue-specificity groups was saved as: HLA-A2902_ATQKITFSA_tissue_specificity.pdf\"\n"
     ]
    },
    {
     "name": "stderr",
     "output_type": "stream",
     "text": [
      "Warning message:\n",
      "“\u001b[1m\u001b[22mNo shared levels found between `names(values)` of the manual scale and the data's \u001b[32mcolour\u001b[39m values.”\n"
     ]
    },
    {
     "name": "stdout",
     "output_type": "stream",
     "text": [
      "[1] \"Your Heatmap combined with seqlogo displaying amino acid substitutions was saved as: HLA-A2902_ATQKITFSAcross_substitution.pdf\"\n",
      "##------ Mon Jun 30 14:22:30 2025 ------##\n",
      "[1] \"Your results were saved as: HLA-A2902_TQKITFSAT.csv\"\n",
      "[1] \"From: 12812, there are 216 significant peptides (lower than 0.05)\"\n"
     ]
    },
    {
     "name": "stderr",
     "output_type": "stream",
     "text": [
      "Warning message in .local(object, ...):\n",
      "“Found 1 peptides out of 2. Unmapped peptides: VYHITVSQI”\n",
      "Warning message in max(abs(mat), na.rm = TRUE):\n",
      "“no non-missing arguments to max; returning -Inf”\n",
      "Skipping expression and tissue plots for HLA-A2902_TQKITFSAT because: 'from' must be a finite number\n",
      "\n"
     ]
    },
    {
     "name": "stdout",
     "output_type": "stream",
     "text": [
      "##------ Mon Jun 30 14:22:31 2025 ------##\n",
      "[1] \"Your results were saved as: HLA-A2902_TQKITFSAT.csv\"\n",
      "[1] \"From: 12812, there are 216 significant peptides (lower than 0.05)\"\n"
     ]
    },
    {
     "name": "stderr",
     "output_type": "stream",
     "text": [
      "Warning message in .local(object, ...):\n",
      "“Found 1 peptides out of 2. Unmapped peptides: VYHITVSQI”\n",
      "Warning message in max(abs(mat), na.rm = TRUE):\n",
      "“no non-missing arguments to max; returning -Inf”\n",
      "Skipping expression and tissue plots for HLA-A2902_TQKITFSAT because: 'from' must be a finite number\n",
      "\n"
     ]
    },
    {
     "name": "stdout",
     "output_type": "stream",
     "text": [
      "##------ Mon Jun 30 14:22:33 2025 ------##\n",
      "[1] \"Your results were saved as: HLA-A2902_TQKITFSAT.csv\"\n",
      "[1] \"From: 12812, there are 216 significant peptides (lower than 0.05)\"\n"
     ]
    },
    {
     "name": "stderr",
     "output_type": "stream",
     "text": [
      "Warning message in .local(object, ...):\n",
      "“Found 1 peptides out of 2. Unmapped peptides: VYHITVSQI”\n",
      "Warning message in max(abs(mat), na.rm = TRUE):\n",
      "“no non-missing arguments to max; returning -Inf”\n",
      "Skipping expression and tissue plots for HLA-A2902_TQKITFSAT because: 'from' must be a finite number\n",
      "\n"
     ]
    },
    {
     "name": "stdout",
     "output_type": "stream",
     "text": [
      "##------ Mon Jun 30 14:22:34 2025 ------##\n",
      "[1] \"Your results were saved as: HLA-A2902_QKITFSATR.csv\"\n",
      "[1] \"From: 12812, there are 82 significant peptides (lower than 0.05)\"\n"
     ]
    },
    {
     "name": "stderr",
     "output_type": "stream",
     "text": [
      "Skipping expression and tissue plots for HLA-A2902_QKITFSATR because: The provided epitopes are not included on the human proteome.\n",
      "\n"
     ]
    },
    {
     "name": "stdout",
     "output_type": "stream",
     "text": [
      "##------ Mon Jun 30 14:22:35 2025 ------##\n",
      "[1] \"Your results were saved as: HLA-A2902_QKITFSATR.csv\"\n",
      "[1] \"From: 12812, there are 82 significant peptides (lower than 0.05)\"\n"
     ]
    },
    {
     "name": "stderr",
     "output_type": "stream",
     "text": [
      "Skipping expression and tissue plots for HLA-A2902_QKITFSATR because: The provided epitopes are not included on the human proteome.\n",
      "\n"
     ]
    },
    {
     "name": "stdout",
     "output_type": "stream",
     "text": [
      "##------ Mon Jun 30 14:22:36 2025 ------##\n",
      "[1] \"Your results were saved as: HLA-A2902_QKITFSATR.csv\"\n",
      "[1] \"From: 12812, there are 82 significant peptides (lower than 0.05)\"\n"
     ]
    },
    {
     "name": "stderr",
     "output_type": "stream",
     "text": [
      "Skipping expression and tissue plots for HLA-A2902_QKITFSATR because: The provided epitopes are not included on the human proteome.\n",
      "\n"
     ]
    },
    {
     "name": "stdout",
     "output_type": "stream",
     "text": [
      "##------ Mon Jun 30 14:22:36 2025 ------##\n",
      "[1] \"Your results were saved as: HLA-A2902_KITFSATRT.csv\"\n",
      "[1] \"From: 12812, there are 95 significant peptides (lower than 0.05)\"\n"
     ]
    },
    {
     "name": "stderr",
     "output_type": "stream",
     "text": [
      "Skipping expression and tissue plots for HLA-A2902_KITFSATRT because: The provided epitopes are not included on the human proteome.\n",
      "\n"
     ]
    },
    {
     "name": "stdout",
     "output_type": "stream",
     "text": [
      "##------ Mon Jun 30 14:22:37 2025 ------##\n",
      "[1] \"Your results were saved as: HLA-A2902_KITFSATRT.csv\"\n",
      "[1] \"From: 12812, there are 95 significant peptides (lower than 0.05)\"\n"
     ]
    },
    {
     "name": "stderr",
     "output_type": "stream",
     "text": [
      "Skipping expression and tissue plots for HLA-A2902_KITFSATRT because: The provided epitopes are not included on the human proteome.\n",
      "\n"
     ]
    },
    {
     "name": "stdout",
     "output_type": "stream",
     "text": [
      "##------ Mon Jun 30 14:22:38 2025 ------##\n",
      "[1] \"Your results were saved as: HLA-A2902_KITFSATRT.csv\"\n",
      "[1] \"From: 12812, there are 95 significant peptides (lower than 0.05)\"\n"
     ]
    },
    {
     "name": "stderr",
     "output_type": "stream",
     "text": [
      "Skipping expression and tissue plots for HLA-A2902_KITFSATRT because: The provided epitopes are not included on the human proteome.\n",
      "\n"
     ]
    },
    {
     "name": "stdout",
     "output_type": "stream",
     "text": [
      "##------ Mon Jun 30 14:22:39 2025 ------##\n",
      "[1] \"Your results were saved as: HLA-A2902_ITFSATRTI.csv\"\n",
      "[1] \"From: 12812, there are 177 significant peptides (lower than 0.05)\"\n"
     ]
    },
    {
     "name": "stderr",
     "output_type": "stream",
     "text": [
      "Warning message in .local(object, ...):\n",
      "“Found 5 peptides out of 7. Unmapped peptides: VFQSATKII,IQIQATETA”\n"
     ]
    },
    {
     "name": "stdout",
     "output_type": "stream",
     "text": [
      "[1] \"Your heatmap presenting the gene donor expression profile was saved as: HLA-A2902_ITFSATRTI_expression_heatmap.pdf\"\n",
      "[1] \"Your Bar plot summarizing the tissue-specificity groups was saved as: HLA-A2902_ITFSATRTI_tissue_specificity.pdf\"\n"
     ]
    },
    {
     "name": "stderr",
     "output_type": "stream",
     "text": [
      "Warning message:\n",
      "“\u001b[1m\u001b[22mNo shared levels found between `names(values)` of the manual scale and the data's \u001b[32mcolour\u001b[39m values.”\n"
     ]
    },
    {
     "name": "stdout",
     "output_type": "stream",
     "text": [
      "[1] \"Your Heatmap combined with seqlogo displaying amino acid substitutions was saved as: HLA-A2902_ITFSATRTIcross_substitution.pdf\"\n",
      "##------ Mon Jun 30 14:22:40 2025 ------##\n",
      "[1] \"Your results were saved as: HLA-A2902_ITFSATRTI.csv\"\n",
      "[1] \"From: 12812, there are 177 significant peptides (lower than 0.05)\"\n"
     ]
    },
    {
     "name": "stderr",
     "output_type": "stream",
     "text": [
      "Warning message in .local(object, ...):\n",
      "“Found 5 peptides out of 7. Unmapped peptides: VFQSATKII,IQIQATETA”\n"
     ]
    },
    {
     "name": "stdout",
     "output_type": "stream",
     "text": [
      "[1] \"Your heatmap presenting the gene donor expression profile was saved as: HLA-A2902_ITFSATRTI_expression_heatmap.pdf\"\n",
      "[1] \"Your Bar plot summarizing the tissue-specificity groups was saved as: HLA-A2902_ITFSATRTI_tissue_specificity.pdf\"\n"
     ]
    },
    {
     "name": "stderr",
     "output_type": "stream",
     "text": [
      "Warning message:\n",
      "“\u001b[1m\u001b[22mNo shared levels found between `names(values)` of the manual scale and the data's \u001b[32mcolour\u001b[39m values.”\n"
     ]
    },
    {
     "name": "stdout",
     "output_type": "stream",
     "text": [
      "[1] \"Your Heatmap combined with seqlogo displaying amino acid substitutions was saved as: HLA-A2902_ITFSATRTIcross_substitution.pdf\"\n",
      "##------ Mon Jun 30 14:22:42 2025 ------##\n",
      "[1] \"Your results were saved as: HLA-A2902_ITFSATRTI.csv\"\n",
      "[1] \"From: 12812, there are 177 significant peptides (lower than 0.05)\"\n"
     ]
    },
    {
     "name": "stderr",
     "output_type": "stream",
     "text": [
      "Warning message in .local(object, ...):\n",
      "“Found 5 peptides out of 7. Unmapped peptides: VFQSATKII,IQIQATETA”\n"
     ]
    },
    {
     "name": "stdout",
     "output_type": "stream",
     "text": [
      "[1] \"Your heatmap presenting the gene donor expression profile was saved as: HLA-A2902_ITFSATRTI_expression_heatmap.pdf\"\n",
      "[1] \"Your Bar plot summarizing the tissue-specificity groups was saved as: HLA-A2902_ITFSATRTI_tissue_specificity.pdf\"\n"
     ]
    },
    {
     "name": "stderr",
     "output_type": "stream",
     "text": [
      "Warning message:\n",
      "“\u001b[1m\u001b[22mNo shared levels found between `names(values)` of the manual scale and the data's \u001b[32mcolour\u001b[39m values.”\n"
     ]
    },
    {
     "name": "stdout",
     "output_type": "stream",
     "text": [
      "[1] \"Your Heatmap combined with seqlogo displaying amino acid substitutions was saved as: HLA-A2902_ITFSATRTIcross_substitution.pdf\"\n",
      "##------ Mon Jun 30 14:22:44 2025 ------##\n",
      "[1] \"Your results were saved as: HLA-A2902_TFSATRTIN.csv\"\n",
      "[1] \"From: 12812, there are 133 significant peptides (lower than 0.05)\"\n"
     ]
    },
    {
     "name": "stderr",
     "output_type": "stream",
     "text": [
      "Warning message in .local(object, ...):\n",
      "“Found 7 peptides out of 7. Unmapped peptides: ”\n"
     ]
    },
    {
     "name": "stdout",
     "output_type": "stream",
     "text": [
      "[1] \"Your heatmap presenting the gene donor expression profile was saved as: HLA-A2902_TFSATRTIN_expression_heatmap.pdf\"\n",
      "[1] \"Your Bar plot summarizing the tissue-specificity groups was saved as: HLA-A2902_TFSATRTIN_tissue_specificity.pdf\"\n"
     ]
    },
    {
     "name": "stderr",
     "output_type": "stream",
     "text": [
      "Warning message:\n",
      "“\u001b[1m\u001b[22mNo shared levels found between `names(values)` of the manual scale and the data's \u001b[32mcolour\u001b[39m values.”\n"
     ]
    },
    {
     "name": "stdout",
     "output_type": "stream",
     "text": [
      "[1] \"Your Heatmap combined with seqlogo displaying amino acid substitutions was saved as: HLA-A2902_TFSATRTINcross_substitution.pdf\"\n",
      "##------ Mon Jun 30 14:22:45 2025 ------##\n",
      "[1] \"Your results were saved as: HLA-A2902_TFSATRTIN.csv\"\n",
      "[1] \"From: 12812, there are 133 significant peptides (lower than 0.05)\"\n"
     ]
    },
    {
     "name": "stderr",
     "output_type": "stream",
     "text": [
      "Warning message in .local(object, ...):\n",
      "“Found 7 peptides out of 7. Unmapped peptides: ”\n"
     ]
    },
    {
     "name": "stdout",
     "output_type": "stream",
     "text": [
      "[1] \"Your heatmap presenting the gene donor expression profile was saved as: HLA-A2902_TFSATRTIN_expression_heatmap.pdf\"\n",
      "[1] \"Your Bar plot summarizing the tissue-specificity groups was saved as: HLA-A2902_TFSATRTIN_tissue_specificity.pdf\"\n"
     ]
    },
    {
     "name": "stderr",
     "output_type": "stream",
     "text": [
      "Warning message:\n",
      "“\u001b[1m\u001b[22mNo shared levels found between `names(values)` of the manual scale and the data's \u001b[32mcolour\u001b[39m values.”\n"
     ]
    },
    {
     "name": "stdout",
     "output_type": "stream",
     "text": [
      "[1] \"Your Heatmap combined with seqlogo displaying amino acid substitutions was saved as: HLA-A2902_TFSATRTINcross_substitution.pdf\"\n",
      "##------ Mon Jun 30 14:22:47 2025 ------##\n",
      "[1] \"Your results were saved as: HLA-A2902_TFSATRTIN.csv\"\n",
      "[1] \"From: 12812, there are 133 significant peptides (lower than 0.05)\"\n"
     ]
    },
    {
     "name": "stderr",
     "output_type": "stream",
     "text": [
      "Warning message in .local(object, ...):\n",
      "“Found 7 peptides out of 7. Unmapped peptides: ”\n"
     ]
    },
    {
     "name": "stdout",
     "output_type": "stream",
     "text": [
      "[1] \"Your heatmap presenting the gene donor expression profile was saved as: HLA-A2902_TFSATRTIN_expression_heatmap.pdf\"\n",
      "[1] \"Your Bar plot summarizing the tissue-specificity groups was saved as: HLA-A2902_TFSATRTIN_tissue_specificity.pdf\"\n"
     ]
    },
    {
     "name": "stderr",
     "output_type": "stream",
     "text": [
      "Warning message:\n",
      "“\u001b[1m\u001b[22mNo shared levels found between `names(values)` of the manual scale and the data's \u001b[32mcolour\u001b[39m values.”\n"
     ]
    },
    {
     "name": "stdout",
     "output_type": "stream",
     "text": [
      "[1] \"Your Heatmap combined with seqlogo displaying amino acid substitutions was saved as: HLA-A2902_TFSATRTINcross_substitution.pdf\"\n",
      "##------ Mon Jun 30 14:22:48 2025 ------##\n",
      "[1] \"Your results were saved as: HLA-A2902_DNHIVHRDL.csv\"\n",
      "[1] \"From: 12812, there are 124 significant peptides (lower than 0.05)\"\n"
     ]
    },
    {
     "name": "stderr",
     "output_type": "stream",
     "text": [
      "Warning message in .local(object, ...):\n",
      "“Found 2 peptides out of 2. Unmapped peptides: ”\n",
      "Warning message in max(abs(mat), na.rm = TRUE):\n",
      "“no non-missing arguments to max; returning -Inf”\n",
      "Skipping expression and tissue plots for HLA-A2902_DNHIVHRDL because: 'from' must be a finite number\n",
      "\n"
     ]
    },
    {
     "name": "stdout",
     "output_type": "stream",
     "text": [
      "##------ Mon Jun 30 14:22:49 2025 ------##\n",
      "[1] \"Your results were saved as: HLA-A2902_DNHIVHRDL.csv\"\n",
      "[1] \"From: 12812, there are 124 significant peptides (lower than 0.05)\"\n"
     ]
    },
    {
     "name": "stderr",
     "output_type": "stream",
     "text": [
      "Warning message in .local(object, ...):\n",
      "“Found 2 peptides out of 2. Unmapped peptides: ”\n",
      "Warning message in max(abs(mat), na.rm = TRUE):\n",
      "“no non-missing arguments to max; returning -Inf”\n",
      "Skipping expression and tissue plots for HLA-A2902_DNHIVHRDL because: 'from' must be a finite number\n",
      "\n"
     ]
    },
    {
     "name": "stdout",
     "output_type": "stream",
     "text": [
      "##------ Mon Jun 30 14:22:50 2025 ------##\n",
      "[1] \"Your results were saved as: HLA-A2902_NHIVHRDLK.csv\"\n",
      "[1] \"From: 12812, there are 132 significant peptides (lower than 0.05)\"\n"
     ]
    },
    {
     "name": "stderr",
     "output_type": "stream",
     "text": [
      "Warning message in .local(object, ...):\n",
      "“Found 1 peptides out of 2. Unmapped peptides: VRFLHRDIY”\n",
      "Warning message in max(abs(mat), na.rm = TRUE):\n",
      "“no non-missing arguments to max; returning -Inf”\n",
      "Skipping expression and tissue plots for HLA-A2902_NHIVHRDLK because: 'from' must be a finite number\n",
      "\n"
     ]
    },
    {
     "name": "stdout",
     "output_type": "stream",
     "text": [
      "##------ Mon Jun 30 14:22:52 2025 ------##\n",
      "[1] \"Your results were saved as: HLA-A2902_NHIVHRDLK.csv\"\n",
      "[1] \"From: 12812, there are 132 significant peptides (lower than 0.05)\"\n"
     ]
    },
    {
     "name": "stderr",
     "output_type": "stream",
     "text": [
      "Warning message in .local(object, ...):\n",
      "“Found 1 peptides out of 2. Unmapped peptides: VRFLHRDIY”\n",
      "Warning message in max(abs(mat), na.rm = TRUE):\n",
      "“no non-missing arguments to max; returning -Inf”\n",
      "Skipping expression and tissue plots for HLA-A2902_NHIVHRDLK because: 'from' must be a finite number\n",
      "\n"
     ]
    },
    {
     "name": "stdout",
     "output_type": "stream",
     "text": [
      "##------ Mon Jun 30 14:22:53 2025 ------##\n",
      "[1] \"Your results were saved as: HLA-A2902_HIVHRDLKG.csv\"\n",
      "[1] \"From: 12812, there are 80 significant peptides (lower than 0.05)\"\n"
     ]
    },
    {
     "name": "stderr",
     "output_type": "stream",
     "text": [
      "Warning message in .local(object, ...):\n",
      "“Found 3 peptides out of 3. Unmapped peptides: ”\n"
     ]
    },
    {
     "name": "stdout",
     "output_type": "stream",
     "text": [
      "[1] \"Your heatmap presenting the gene donor expression profile was saved as: HLA-A2902_HIVHRDLKG_expression_heatmap.pdf\"\n",
      "[1] \"Your Bar plot summarizing the tissue-specificity groups was saved as: HLA-A2902_HIVHRDLKG_tissue_specificity.pdf\"\n"
     ]
    },
    {
     "name": "stderr",
     "output_type": "stream",
     "text": [
      "Warning message:\n",
      "“\u001b[1m\u001b[22mNo shared levels found between `names(values)` of the manual scale and the data's \u001b[32mcolour\u001b[39m values.”\n"
     ]
    },
    {
     "name": "stdout",
     "output_type": "stream",
     "text": [
      "[1] \"Your Heatmap combined with seqlogo displaying amino acid substitutions was saved as: HLA-A2902_HIVHRDLKGcross_substitution.pdf\"\n",
      "##------ Mon Jun 30 14:22:54 2025 ------##\n",
      "[1] \"Your results were saved as: HLA-A2902_HIVHRDLKG.csv\"\n",
      "[1] \"From: 12812, there are 80 significant peptides (lower than 0.05)\"\n"
     ]
    },
    {
     "name": "stderr",
     "output_type": "stream",
     "text": [
      "Warning message in .local(object, ...):\n",
      "“Found 3 peptides out of 3. Unmapped peptides: ”\n"
     ]
    },
    {
     "name": "stdout",
     "output_type": "stream",
     "text": [
      "[1] \"Your heatmap presenting the gene donor expression profile was saved as: HLA-A2902_HIVHRDLKG_expression_heatmap.pdf\"\n",
      "[1] \"Your Bar plot summarizing the tissue-specificity groups was saved as: HLA-A2902_HIVHRDLKG_tissue_specificity.pdf\"\n"
     ]
    },
    {
     "name": "stderr",
     "output_type": "stream",
     "text": [
      "Warning message:\n",
      "“\u001b[1m\u001b[22mNo shared levels found between `names(values)` of the manual scale and the data's \u001b[32mcolour\u001b[39m values.”\n"
     ]
    },
    {
     "name": "stdout",
     "output_type": "stream",
     "text": [
      "[1] \"Your Heatmap combined with seqlogo displaying amino acid substitutions was saved as: HLA-A2902_HIVHRDLKGcross_substitution.pdf\"\n",
      "##------ Mon Jun 30 14:22:56 2025 ------##\n",
      "[1] \"Your results were saved as: HLA-A2902_IVHRDLKGD.csv\"\n",
      "[1] \"From: 12812, there are 51 significant peptides (lower than 0.05)\"\n"
     ]
    },
    {
     "name": "stderr",
     "output_type": "stream",
     "text": [
      "Warning message in .local(object, ...):\n",
      "“Found 1 peptides out of 2. Unmapped peptides: IVNRNRQGY”\n",
      "Warning message in max(abs(mat), na.rm = TRUE):\n",
      "“no non-missing arguments to max; returning -Inf”\n",
      "Skipping expression and tissue plots for HLA-A2902_IVHRDLKGD because: 'from' must be a finite number\n",
      "\n"
     ]
    },
    {
     "name": "stdout",
     "output_type": "stream",
     "text": [
      "##------ Mon Jun 30 14:22:57 2025 ------##\n",
      "[1] \"Your results were saved as: HLA-A2902_IVHRDLKGD.csv\"\n",
      "[1] \"From: 12812, there are 51 significant peptides (lower than 0.05)\"\n"
     ]
    },
    {
     "name": "stderr",
     "output_type": "stream",
     "text": [
      "Warning message in .local(object, ...):\n",
      "“Found 1 peptides out of 2. Unmapped peptides: IVNRNRQGY”\n",
      "Warning message in max(abs(mat), na.rm = TRUE):\n",
      "“no non-missing arguments to max; returning -Inf”\n",
      "Skipping expression and tissue plots for HLA-A2902_IVHRDLKGD because: 'from' must be a finite number\n",
      "\n"
     ]
    },
    {
     "name": "stdout",
     "output_type": "stream",
     "text": [
      "##------ Mon Jun 30 14:22:58 2025 ------##\n",
      "[1] \"Your results were saved as: HLA-A2902_VHRDLKGDN.csv\"\n",
      "[1] \"From: 12812, there are 44 significant peptides (lower than 0.05)\"\n"
     ]
    },
    {
     "name": "stderr",
     "output_type": "stream",
     "text": [
      "Warning message in .local(object, ...):\n",
      "“Found 1 peptides out of 1. Unmapped peptides: ”\n",
      "Warning message in max(abs(mat), na.rm = TRUE):\n",
      "“no non-missing arguments to max; returning -Inf”\n",
      "Skipping expression and tissue plots for HLA-A2902_VHRDLKGDN because: 'from' must be a finite number\n",
      "\n"
     ]
    },
    {
     "name": "stdout",
     "output_type": "stream",
     "text": [
      "##------ Mon Jun 30 14:22:59 2025 ------##\n",
      "[1] \"Your results were saved as: HLA-A2902_VHRDLKGDN.csv\"\n",
      "[1] \"From: 12812, there are 44 significant peptides (lower than 0.05)\"\n"
     ]
    },
    {
     "name": "stderr",
     "output_type": "stream",
     "text": [
      "Warning message in .local(object, ...):\n",
      "“Found 1 peptides out of 1. Unmapped peptides: ”\n",
      "Warning message in max(abs(mat), na.rm = TRUE):\n",
      "“no non-missing arguments to max; returning -Inf”\n",
      "Skipping expression and tissue plots for HLA-A2902_VHRDLKGDN because: 'from' must be a finite number\n",
      "\n"
     ]
    },
    {
     "name": "stdout",
     "output_type": "stream",
     "text": [
      "##------ Mon Jun 30 14:22:59 2025 ------##\n",
      "[1] \"Your results were saved as: HLA-A2902_HRDLKGDNV.csv\"\n",
      "[1] \"From: 12812, there are 34 significant peptides (lower than 0.05)\"\n"
     ]
    },
    {
     "name": "stderr",
     "output_type": "stream",
     "text": [
      "Skipping expression and tissue plots for HLA-A2902_HRDLKGDNV because: The provided epitopes are not included on the human proteome.\n",
      "\n"
     ]
    },
    {
     "name": "stdout",
     "output_type": "stream",
     "text": [
      "##------ Mon Jun 30 14:23:00 2025 ------##\n",
      "[1] \"Your results were saved as: HLA-A2902_HRDLKGDNV.csv\"\n",
      "[1] \"From: 12812, there are 34 significant peptides (lower than 0.05)\"\n"
     ]
    },
    {
     "name": "stderr",
     "output_type": "stream",
     "text": [
      "Skipping expression and tissue plots for HLA-A2902_HRDLKGDNV because: The provided epitopes are not included on the human proteome.\n",
      "\n"
     ]
    },
    {
     "name": "stdout",
     "output_type": "stream",
     "text": [
      "##------ Mon Jun 30 14:23:01 2025 ------##\n",
      "[1] \"Your results were saved as: HLA-A2902_RDLKGDNVL.csv\"\n",
      "[1] \"From: 12812, there are 62 significant peptides (lower than 0.05)\"\n"
     ]
    },
    {
     "name": "stderr",
     "output_type": "stream",
     "text": [
      "Skipping expression and tissue plots for HLA-A2902_RDLKGDNVL because: The provided epitopes are not included on the human proteome.\n",
      "\n"
     ]
    },
    {
     "name": "stdout",
     "output_type": "stream",
     "text": [
      "##------ Mon Jun 30 14:23:02 2025 ------##\n",
      "[1] \"Your results were saved as: HLA-A2902_RDLKGDNVL.csv\"\n",
      "[1] \"From: 12812, there are 62 significant peptides (lower than 0.05)\"\n"
     ]
    },
    {
     "name": "stderr",
     "output_type": "stream",
     "text": [
      "Skipping expression and tissue plots for HLA-A2902_RDLKGDNVL because: The provided epitopes are not included on the human proteome.\n",
      "\n"
     ]
    },
    {
     "name": "stdout",
     "output_type": "stream",
     "text": [
      "##------ Mon Jun 30 14:23:03 2025 ------##\n",
      "[1] \"Your results were saved as: HLA-A2902_DLKGDNVLI.csv\"\n",
      "[1] \"From: 12812, there are 487 significant peptides (lower than 0.05)\"\n"
     ]
    },
    {
     "name": "stderr",
     "output_type": "stream",
     "text": [
      "Warning message in .local(object, ...):\n",
      "“Found 16 peptides out of 20. Unmapped peptides: GLQGIYVLV,YAEGDVVVF,LLKGYTVVC,DSKGISHFY”\n"
     ]
    },
    {
     "name": "stdout",
     "output_type": "stream",
     "text": [
      "[1] \"Your heatmap presenting the gene donor expression profile was saved as: HLA-A2902_DLKGDNVLI_expression_heatmap.pdf\"\n",
      "[1] \"Your Bar plot summarizing the tissue-specificity groups was saved as: HLA-A2902_DLKGDNVLI_tissue_specificity.pdf\"\n"
     ]
    },
    {
     "name": "stderr",
     "output_type": "stream",
     "text": [
      "Warning message:\n",
      "“\u001b[1m\u001b[22mNo shared levels found between `names(values)` of the manual scale and the data's \u001b[32mcolour\u001b[39m values.”\n"
     ]
    },
    {
     "name": "stdout",
     "output_type": "stream",
     "text": [
      "[1] \"Your Heatmap combined with seqlogo displaying amino acid substitutions was saved as: HLA-A2902_DLKGDNVLIcross_substitution.pdf\"\n",
      "##------ Mon Jun 30 14:23:04 2025 ------##\n",
      "[1] \"Your results were saved as: HLA-A2902_DLKGDNVLI.csv\"\n",
      "[1] \"From: 12812, there are 487 significant peptides (lower than 0.05)\"\n"
     ]
    },
    {
     "name": "stderr",
     "output_type": "stream",
     "text": [
      "Warning message in .local(object, ...):\n",
      "“Found 16 peptides out of 20. Unmapped peptides: GLQGIYVLV,YAEGDVVVF,LLKGYTVVC,DSKGISHFY”\n"
     ]
    },
    {
     "name": "stdout",
     "output_type": "stream",
     "text": [
      "[1] \"Your heatmap presenting the gene donor expression profile was saved as: HLA-A2902_DLKGDNVLI_expression_heatmap.pdf\"\n",
      "[1] \"Your Bar plot summarizing the tissue-specificity groups was saved as: HLA-A2902_DLKGDNVLI_tissue_specificity.pdf\"\n"
     ]
    },
    {
     "name": "stderr",
     "output_type": "stream",
     "text": [
      "Warning message:\n",
      "“\u001b[1m\u001b[22mNo shared levels found between `names(values)` of the manual scale and the data's \u001b[32mcolour\u001b[39m values.”\n"
     ]
    },
    {
     "name": "stdout",
     "output_type": "stream",
     "text": [
      "[1] \"Your Heatmap combined with seqlogo displaying amino acid substitutions was saved as: HLA-A2902_DLKGDNVLIcross_substitution.pdf\"\n",
      "##------ Mon Jun 30 14:23:06 2025 ------##\n",
      "[1] \"Your results were saved as: HLA-A2902_LKGDNVLIN.csv\"\n",
      "[1] \"From: 12812, there are 448 significant peptides (lower than 0.05)\"\n"
     ]
    },
    {
     "name": "stderr",
     "output_type": "stream",
     "text": [
      "Warning message in .local(object, ...):\n",
      "“Found 20 peptides out of 21. Unmapped peptides: AQGYKVLVL”\n"
     ]
    },
    {
     "name": "stdout",
     "output_type": "stream",
     "text": [
      "[1] \"Your heatmap presenting the gene donor expression profile was saved as: HLA-A2902_LKGDNVLIN_expression_heatmap.pdf\"\n",
      "[1] \"Your Bar plot summarizing the tissue-specificity groups was saved as: HLA-A2902_LKGDNVLIN_tissue_specificity.pdf\"\n"
     ]
    },
    {
     "name": "stderr",
     "output_type": "stream",
     "text": [
      "Warning message:\n",
      "“\u001b[1m\u001b[22mNo shared levels found between `names(values)` of the manual scale and the data's \u001b[32mcolour\u001b[39m values.”\n"
     ]
    },
    {
     "name": "stdout",
     "output_type": "stream",
     "text": [
      "[1] \"Your Heatmap combined with seqlogo displaying amino acid substitutions was saved as: HLA-A2902_LKGDNVLINcross_substitution.pdf\"\n",
      "##------ Mon Jun 30 14:23:08 2025 ------##\n",
      "[1] \"Your results were saved as: HLA-A2902_LKGDNVLIN.csv\"\n",
      "[1] \"From: 12812, there are 448 significant peptides (lower than 0.05)\"\n"
     ]
    },
    {
     "name": "stderr",
     "output_type": "stream",
     "text": [
      "Warning message in .local(object, ...):\n",
      "“Found 20 peptides out of 21. Unmapped peptides: AQGYKVLVL”\n"
     ]
    },
    {
     "name": "stdout",
     "output_type": "stream",
     "text": [
      "[1] \"Your heatmap presenting the gene donor expression profile was saved as: HLA-A2902_LKGDNVLIN_expression_heatmap.pdf\"\n",
      "[1] \"Your Bar plot summarizing the tissue-specificity groups was saved as: HLA-A2902_LKGDNVLIN_tissue_specificity.pdf\"\n"
     ]
    },
    {
     "name": "stderr",
     "output_type": "stream",
     "text": [
      "Warning message:\n",
      "“\u001b[1m\u001b[22mNo shared levels found between `names(values)` of the manual scale and the data's \u001b[32mcolour\u001b[39m values.”\n"
     ]
    },
    {
     "name": "stdout",
     "output_type": "stream",
     "text": [
      "[1] \"Your Heatmap combined with seqlogo displaying amino acid substitutions was saved as: HLA-A2902_LKGDNVLINcross_substitution.pdf\"\n",
      "##------ Mon Jun 30 14:23:10 2025 ------##\n",
      "[1] \"Your results were saved as: HLA-A2902_LLKELGSLR.csv\"\n",
      "[1] \"From: 12812, there are 205 significant peptides (lower than 0.05)\"\n"
     ]
    },
    {
     "name": "stderr",
     "output_type": "stream",
     "text": [
      "Warning message in .local(object, ...):\n",
      "“Found 6 peptides out of 8. Unmapped peptides: HLKEKSSLR,LLQAIGAAA”\n"
     ]
    },
    {
     "name": "stdout",
     "output_type": "stream",
     "text": [
      "[1] \"Your heatmap presenting the gene donor expression profile was saved as: HLA-A2902_LLKELGSLR_expression_heatmap.pdf\"\n",
      "[1] \"Your Bar plot summarizing the tissue-specificity groups was saved as: HLA-A2902_LLKELGSLR_tissue_specificity.pdf\"\n"
     ]
    },
    {
     "name": "stderr",
     "output_type": "stream",
     "text": [
      "Warning message:\n",
      "“\u001b[1m\u001b[22mNo shared levels found between `names(values)` of the manual scale and the data's \u001b[32mcolour\u001b[39m values.”\n"
     ]
    },
    {
     "name": "stdout",
     "output_type": "stream",
     "text": [
      "[1] \"Your Heatmap combined with seqlogo displaying amino acid substitutions was saved as: HLA-A2902_LLKELGSLRcross_substitution.pdf\"\n",
      "##------ Mon Jun 30 14:23:11 2025 ------##\n",
      "[1] \"Your results were saved as: HLA-A2902_LLKELGSLR.csv\"\n",
      "[1] \"From: 12812, there are 205 significant peptides (lower than 0.05)\"\n"
     ]
    },
    {
     "name": "stderr",
     "output_type": "stream",
     "text": [
      "Warning message in .local(object, ...):\n",
      "“Found 6 peptides out of 8. Unmapped peptides: HLKEKSSLR,LLQAIGAAA”\n"
     ]
    },
    {
     "name": "stdout",
     "output_type": "stream",
     "text": [
      "[1] \"Your heatmap presenting the gene donor expression profile was saved as: HLA-A2902_LLKELGSLR_expression_heatmap.pdf\"\n",
      "[1] \"Your Bar plot summarizing the tissue-specificity groups was saved as: HLA-A2902_LLKELGSLR_tissue_specificity.pdf\"\n"
     ]
    },
    {
     "name": "stderr",
     "output_type": "stream",
     "text": [
      "Warning message:\n",
      "“\u001b[1m\u001b[22mNo shared levels found between `names(values)` of the manual scale and the data's \u001b[32mcolour\u001b[39m values.”\n"
     ]
    },
    {
     "name": "stdout",
     "output_type": "stream",
     "text": [
      "[1] \"Your Heatmap combined with seqlogo displaying amino acid substitutions was saved as: HLA-A2902_LLKELGSLRcross_substitution.pdf\"\n",
      "##------ Mon Jun 30 14:23:13 2025 ------##\n",
      "[1] \"Your results were saved as: HLA-A2902_LKELGSLRL.csv\"\n",
      "[1] \"From: 12812, there are 158 significant peptides (lower than 0.05)\"\n"
     ]
    },
    {
     "name": "stderr",
     "output_type": "stream",
     "text": [
      "Warning message in .local(object, ...):\n",
      "“Found 5 peptides out of 8. Unmapped peptides: LKEKSSLRY,SRYFGNVRL,LQALSNLIL”\n"
     ]
    },
    {
     "name": "stdout",
     "output_type": "stream",
     "text": [
      "[1] \"Your heatmap presenting the gene donor expression profile was saved as: HLA-A2902_LKELGSLRL_expression_heatmap.pdf\"\n",
      "[1] \"Your Bar plot summarizing the tissue-specificity groups was saved as: HLA-A2902_LKELGSLRL_tissue_specificity.pdf\"\n"
     ]
    },
    {
     "name": "stderr",
     "output_type": "stream",
     "text": [
      "Warning message:\n",
      "“\u001b[1m\u001b[22mNo shared levels found between `names(values)` of the manual scale and the data's \u001b[32mcolour\u001b[39m values.”\n"
     ]
    },
    {
     "name": "stdout",
     "output_type": "stream",
     "text": [
      "[1] \"Your Heatmap combined with seqlogo displaying amino acid substitutions was saved as: HLA-A2902_LKELGSLRLcross_substitution.pdf\"\n",
      "##------ Mon Jun 30 14:23:14 2025 ------##\n",
      "[1] \"Your results were saved as: HLA-A2902_LKELGSLRL.csv\"\n",
      "[1] \"From: 12812, there are 158 significant peptides (lower than 0.05)\"\n"
     ]
    },
    {
     "name": "stderr",
     "output_type": "stream",
     "text": [
      "Warning message in .local(object, ...):\n",
      "“Found 5 peptides out of 8. Unmapped peptides: LKEKSSLRY,SRYFGNVRL,LQALSNLIL”\n"
     ]
    },
    {
     "name": "stdout",
     "output_type": "stream",
     "text": [
      "[1] \"Your heatmap presenting the gene donor expression profile was saved as: HLA-A2902_LKELGSLRL_expression_heatmap.pdf\"\n",
      "[1] \"Your Bar plot summarizing the tissue-specificity groups was saved as: HLA-A2902_LKELGSLRL_tissue_specificity.pdf\"\n"
     ]
    },
    {
     "name": "stderr",
     "output_type": "stream",
     "text": [
      "Warning message:\n",
      "“\u001b[1m\u001b[22mNo shared levels found between `names(values)` of the manual scale and the data's \u001b[32mcolour\u001b[39m values.”\n"
     ]
    },
    {
     "name": "stdout",
     "output_type": "stream",
     "text": [
      "[1] \"Your Heatmap combined with seqlogo displaying amino acid substitutions was saved as: HLA-A2902_LKELGSLRLcross_substitution.pdf\"\n",
      "##------ Mon Jun 30 14:23:16 2025 ------##\n",
      "[1] \"Your results were saved as: HLA-A2902_KELGSLRLP.csv\"\n",
      "[1] \"From: 12812, there are 28 significant peptides (lower than 0.05)\"\n"
     ]
    },
    {
     "name": "stderr",
     "output_type": "stream",
     "text": [
      "Warning message in .local(object, ...):\n",
      "“Found 2 peptides out of 2. Unmapped peptides: ”\n"
     ]
    },
    {
     "name": "stdout",
     "output_type": "stream",
     "text": [
      "[1] \"Your heatmap presenting the gene donor expression profile was saved as: HLA-A2902_KELGSLRLP_expression_heatmap.pdf\"\n",
      "[1] \"Your Bar plot summarizing the tissue-specificity groups was saved as: HLA-A2902_KELGSLRLP_tissue_specificity.pdf\"\n"
     ]
    },
    {
     "name": "stderr",
     "output_type": "stream",
     "text": [
      "Warning message:\n",
      "“\u001b[1m\u001b[22mNo shared levels found between `names(values)` of the manual scale and the data's \u001b[32mcolour\u001b[39m values.”\n"
     ]
    },
    {
     "name": "stdout",
     "output_type": "stream",
     "text": [
      "[1] \"Your Heatmap combined with seqlogo displaying amino acid substitutions was saved as: HLA-A2902_KELGSLRLPcross_substitution.pdf\"\n",
      "##------ Mon Jun 30 14:23:18 2025 ------##\n",
      "[1] \"Your results were saved as: HLA-A2902_KELGSLRLP.csv\"\n",
      "[1] \"From: 12812, there are 28 significant peptides (lower than 0.05)\"\n"
     ]
    },
    {
     "name": "stderr",
     "output_type": "stream",
     "text": [
      "Warning message in .local(object, ...):\n",
      "“Found 2 peptides out of 2. Unmapped peptides: ”\n"
     ]
    },
    {
     "name": "stdout",
     "output_type": "stream",
     "text": [
      "[1] \"Your heatmap presenting the gene donor expression profile was saved as: HLA-A2902_KELGSLRLP_expression_heatmap.pdf\"\n",
      "[1] \"Your Bar plot summarizing the tissue-specificity groups was saved as: HLA-A2902_KELGSLRLP_tissue_specificity.pdf\"\n"
     ]
    },
    {
     "name": "stderr",
     "output_type": "stream",
     "text": [
      "Warning message:\n",
      "“\u001b[1m\u001b[22mNo shared levels found between `names(values)` of the manual scale and the data's \u001b[32mcolour\u001b[39m values.”\n"
     ]
    },
    {
     "name": "stdout",
     "output_type": "stream",
     "text": [
      "[1] \"Your Heatmap combined with seqlogo displaying amino acid substitutions was saved as: HLA-A2902_KELGSLRLPcross_substitution.pdf\"\n",
      "##------ Mon Jun 30 14:23:19 2025 ------##\n",
      "[1] \"Your results were saved as: HLA-A2902_ELGSLRLPL.csv\"\n",
      "[1] \"From: 12812, there are 56 significant peptides (lower than 0.05)\"\n"
     ]
    },
    {
     "name": "stderr",
     "output_type": "stream",
     "text": [
      "Skipping expression and tissue plots for HLA-A2902_ELGSLRLPL because: The provided epitopes are not included on the human proteome.\n",
      "\n"
     ]
    },
    {
     "name": "stdout",
     "output_type": "stream",
     "text": [
      "##------ Mon Jun 30 14:23:20 2025 ------##\n",
      "[1] \"Your results were saved as: HLA-A2902_ELGSLRLPL.csv\"\n",
      "[1] \"From: 12812, there are 56 significant peptides (lower than 0.05)\"\n"
     ]
    },
    {
     "name": "stderr",
     "output_type": "stream",
     "text": [
      "Skipping expression and tissue plots for HLA-A2902_ELGSLRLPL because: The provided epitopes are not included on the human proteome.\n",
      "\n"
     ]
    },
    {
     "name": "stdout",
     "output_type": "stream",
     "text": [
      "##------ Mon Jun 30 14:23:21 2025 ------##\n",
      "[1] \"Your results were saved as: HLA-A2902_LGSLRLPLS.csv\"\n",
      "[1] \"From: 12812, there are 36 significant peptides (lower than 0.05)\"\n"
     ]
    },
    {
     "name": "stderr",
     "output_type": "stream",
     "text": [
      "Skipping expression and tissue plots for HLA-A2902_LGSLRLPLS because: The provided epitopes are not included on the human proteome.\n",
      "\n"
     ]
    },
    {
     "name": "stdout",
     "output_type": "stream",
     "text": [
      "##------ Mon Jun 30 14:23:22 2025 ------##\n",
      "[1] \"Your results were saved as: HLA-A2902_LGSLRLPLS.csv\"\n",
      "[1] \"From: 12812, there are 36 significant peptides (lower than 0.05)\"\n"
     ]
    },
    {
     "name": "stderr",
     "output_type": "stream",
     "text": [
      "Skipping expression and tissue plots for HLA-A2902_LGSLRLPLS because: The provided epitopes are not included on the human proteome.\n",
      "\n"
     ]
    },
    {
     "name": "stdout",
     "output_type": "stream",
     "text": [
      "##------ Mon Jun 30 14:23:23 2025 ------##\n",
      "[1] \"Your results were saved as: HLA-A2902_GSLRLPLST.csv\"\n",
      "[1] \"From: 12812, there are 78 significant peptides (lower than 0.05)\"\n"
     ]
    },
    {
     "name": "stderr",
     "output_type": "stream",
     "text": [
      "Warning message in .local(object, ...):\n",
      "“Found 1 peptides out of 2. Unmapped peptides: TSVKLPLAS”\n",
      "Warning message in max(abs(mat), na.rm = TRUE):\n",
      "“no non-missing arguments to max; returning -Inf”\n",
      "Skipping expression and tissue plots for HLA-A2902_GSLRLPLST because: 'from' must be a finite number\n",
      "\n"
     ]
    },
    {
     "name": "stdout",
     "output_type": "stream",
     "text": [
      "##------ Mon Jun 30 14:23:24 2025 ------##\n",
      "[1] \"Your results were saved as: HLA-A2902_GSLRLPLST.csv\"\n",
      "[1] \"From: 12812, there are 78 significant peptides (lower than 0.05)\"\n"
     ]
    },
    {
     "name": "stderr",
     "output_type": "stream",
     "text": [
      "Warning message in .local(object, ...):\n",
      "“Found 1 peptides out of 2. Unmapped peptides: TSVKLPLAS”\n",
      "Warning message in max(abs(mat), na.rm = TRUE):\n",
      "“no non-missing arguments to max; returning -Inf”\n",
      "Skipping expression and tissue plots for HLA-A2902_GSLRLPLST because: 'from' must be a finite number\n",
      "\n"
     ]
    },
    {
     "name": "stdout",
     "output_type": "stream",
     "text": [
      "##------ Mon Jun 30 14:23:25 2025 ------##\n",
      "[1] \"Your results were saved as: HLA-A2902_SLRLPLSTS.csv\"\n",
      "[1] \"From: 12812, there are 97 significant peptides (lower than 0.05)\"\n"
     ]
    },
    {
     "name": "stderr",
     "output_type": "stream",
     "text": [
      "Warning message in .local(object, ...):\n",
      "“Found 5 peptides out of 5. Unmapped peptides: ”\n"
     ]
    },
    {
     "name": "stdout",
     "output_type": "stream",
     "text": [
      "[1] \"Your heatmap presenting the gene donor expression profile was saved as: HLA-A2902_SLRLPLSTS_expression_heatmap.pdf\"\n",
      "[1] \"Your Bar plot summarizing the tissue-specificity groups was saved as: HLA-A2902_SLRLPLSTS_tissue_specificity.pdf\"\n"
     ]
    },
    {
     "name": "stderr",
     "output_type": "stream",
     "text": [
      "Warning message:\n",
      "“\u001b[1m\u001b[22mNo shared levels found between `names(values)` of the manual scale and the data's \u001b[32mcolour\u001b[39m values.”\n"
     ]
    },
    {
     "name": "stdout",
     "output_type": "stream",
     "text": [
      "[1] \"Your Heatmap combined with seqlogo displaying amino acid substitutions was saved as: HLA-A2902_SLRLPLSTScross_substitution.pdf\"\n",
      "##------ Mon Jun 30 14:23:27 2025 ------##\n",
      "[1] \"Your results were saved as: HLA-A2902_SLRLPLSTS.csv\"\n",
      "[1] \"From: 12812, there are 97 significant peptides (lower than 0.05)\"\n"
     ]
    },
    {
     "name": "stderr",
     "output_type": "stream",
     "text": [
      "Warning message in .local(object, ...):\n",
      "“Found 5 peptides out of 5. Unmapped peptides: ”\n"
     ]
    },
    {
     "name": "stdout",
     "output_type": "stream",
     "text": [
      "[1] \"Your heatmap presenting the gene donor expression profile was saved as: HLA-A2902_SLRLPLSTS_expression_heatmap.pdf\"\n",
      "[1] \"Your Bar plot summarizing the tissue-specificity groups was saved as: HLA-A2902_SLRLPLSTS_tissue_specificity.pdf\"\n"
     ]
    },
    {
     "name": "stderr",
     "output_type": "stream",
     "text": [
      "Warning message:\n",
      "“\u001b[1m\u001b[22mNo shared levels found between `names(values)` of the manual scale and the data's \u001b[32mcolour\u001b[39m values.”\n"
     ]
    },
    {
     "name": "stdout",
     "output_type": "stream",
     "text": [
      "[1] \"Your Heatmap combined with seqlogo displaying amino acid substitutions was saved as: HLA-A2902_SLRLPLSTScross_substitution.pdf\"\n",
      "##------ Mon Jun 30 14:23:28 2025 ------##\n",
      "[1] \"Your results were saved as: HLA-A2902_LRLPLSTSE.csv\"\n",
      "[1] \"From: 12812, there are 110 significant peptides (lower than 0.05)\"\n"
     ]
    },
    {
     "name": "stderr",
     "output_type": "stream",
     "text": [
      "Warning message in .local(object, ...):\n",
      "“Found 3 peptides out of 3. Unmapped peptides: ”\n"
     ]
    },
    {
     "name": "stdout",
     "output_type": "stream",
     "text": [
      "[1] \"Your heatmap presenting the gene donor expression profile was saved as: HLA-A2902_LRLPLSTSE_expression_heatmap.pdf\"\n",
      "[1] \"Your Bar plot summarizing the tissue-specificity groups was saved as: HLA-A2902_LRLPLSTSE_tissue_specificity.pdf\"\n"
     ]
    },
    {
     "name": "stderr",
     "output_type": "stream",
     "text": [
      "Warning message:\n",
      "“\u001b[1m\u001b[22mNo shared levels found between `names(values)` of the manual scale and the data's \u001b[32mcolour\u001b[39m values.”\n"
     ]
    },
    {
     "name": "stdout",
     "output_type": "stream",
     "text": [
      "[1] \"Your Heatmap combined with seqlogo displaying amino acid substitutions was saved as: HLA-A2902_LRLPLSTSEcross_substitution.pdf\"\n",
      "##------ Mon Jun 30 14:23:30 2025 ------##\n",
      "[1] \"Your results were saved as: HLA-A2902_LRLPLSTSE.csv\"\n",
      "[1] \"From: 12812, there are 110 significant peptides (lower than 0.05)\"\n"
     ]
    },
    {
     "name": "stderr",
     "output_type": "stream",
     "text": [
      "Warning message in .local(object, ...):\n",
      "“Found 3 peptides out of 3. Unmapped peptides: ”\n"
     ]
    },
    {
     "name": "stdout",
     "output_type": "stream",
     "text": [
      "[1] \"Your heatmap presenting the gene donor expression profile was saved as: HLA-A2902_LRLPLSTSE_expression_heatmap.pdf\"\n",
      "[1] \"Your Bar plot summarizing the tissue-specificity groups was saved as: HLA-A2902_LRLPLSTSE_tissue_specificity.pdf\"\n"
     ]
    },
    {
     "name": "stderr",
     "output_type": "stream",
     "text": [
      "Warning message:\n",
      "“\u001b[1m\u001b[22mNo shared levels found between `names(values)` of the manual scale and the data's \u001b[32mcolour\u001b[39m values.”\n"
     ]
    },
    {
     "name": "stdout",
     "output_type": "stream",
     "text": [
      "[1] \"Your Heatmap combined with seqlogo displaying amino acid substitutions was saved as: HLA-A2902_LRLPLSTSEcross_substitution.pdf\"\n",
      "##------ Mon Jun 30 14:23:32 2025 ------##\n",
      "[1] \"Your results were saved as: HLA-A2902_RLPLSTSEQ.csv\"\n",
      "[1] \"From: 12812, there are 63 significant peptides (lower than 0.05)\"\n"
     ]
    },
    {
     "name": "stderr",
     "output_type": "stream",
     "text": [
      "Warning message in .local(object, ...):\n",
      "“Found 5 peptides out of 5. Unmapped peptides: ”\n"
     ]
    },
    {
     "name": "stdout",
     "output_type": "stream",
     "text": [
      "[1] \"Your heatmap presenting the gene donor expression profile was saved as: HLA-A2902_RLPLSTSEQ_expression_heatmap.pdf\"\n",
      "[1] \"Your Bar plot summarizing the tissue-specificity groups was saved as: HLA-A2902_RLPLSTSEQ_tissue_specificity.pdf\"\n"
     ]
    },
    {
     "name": "stderr",
     "output_type": "stream",
     "text": [
      "Warning message:\n",
      "“\u001b[1m\u001b[22mNo shared levels found between `names(values)` of the manual scale and the data's \u001b[32mcolour\u001b[39m values.”\n"
     ]
    },
    {
     "name": "stdout",
     "output_type": "stream",
     "text": [
      "[1] \"Your Heatmap combined with seqlogo displaying amino acid substitutions was saved as: HLA-A2902_RLPLSTSEQcross_substitution.pdf\"\n",
      "##------ Mon Jun 30 14:23:34 2025 ------##\n",
      "[1] \"Your results were saved as: HLA-A2902_RLPLSTSEQ.csv\"\n",
      "[1] \"From: 12812, there are 63 significant peptides (lower than 0.05)\"\n"
     ]
    },
    {
     "name": "stderr",
     "output_type": "stream",
     "text": [
      "Warning message in .local(object, ...):\n",
      "“Found 5 peptides out of 5. Unmapped peptides: ”\n"
     ]
    },
    {
     "name": "stdout",
     "output_type": "stream",
     "text": [
      "[1] \"Your heatmap presenting the gene donor expression profile was saved as: HLA-A2902_RLPLSTSEQ_expression_heatmap.pdf\"\n",
      "[1] \"Your Bar plot summarizing the tissue-specificity groups was saved as: HLA-A2902_RLPLSTSEQ_tissue_specificity.pdf\"\n"
     ]
    },
    {
     "name": "stderr",
     "output_type": "stream",
     "text": [
      "Warning message:\n",
      "“\u001b[1m\u001b[22mNo shared levels found between `names(values)` of the manual scale and the data's \u001b[32mcolour\u001b[39m values.”\n"
     ]
    },
    {
     "name": "stdout",
     "output_type": "stream",
     "text": [
      "[1] \"Your Heatmap combined with seqlogo displaying amino acid substitutions was saved as: HLA-A2902_RLPLSTSEQcross_substitution.pdf\"\n",
      "##------ Mon Jun 30 14:23:35 2025 ------##\n",
      "[1] \"Your results were saved as: HLA-A2902_QKEAVQKEK.csv\"\n",
      "[1] \"From: 12812, there are 527 significant peptides (lower than 0.05)\"\n"
     ]
    },
    {
     "name": "stderr",
     "output_type": "stream",
     "text": [
      "Warning message in .local(object, ...):\n",
      "“Found 18 peptides out of 23. Unmapped peptides: ITEMLQKEY,FQEALKKSL,LSEMLNKEY,ISEMLSKEY,KYEALIKLL”\n"
     ]
    },
    {
     "name": "stdout",
     "output_type": "stream",
     "text": [
      "[1] \"Your heatmap presenting the gene donor expression profile was saved as: HLA-A2902_QKEAVQKEK_expression_heatmap.pdf\"\n",
      "[1] \"Your Bar plot summarizing the tissue-specificity groups was saved as: HLA-A2902_QKEAVQKEK_tissue_specificity.pdf\"\n"
     ]
    },
    {
     "name": "stderr",
     "output_type": "stream",
     "text": [
      "Warning message:\n",
      "“\u001b[1m\u001b[22mNo shared levels found between `names(values)` of the manual scale and the data's \u001b[32mcolour\u001b[39m values.”\n"
     ]
    },
    {
     "name": "stdout",
     "output_type": "stream",
     "text": [
      "[1] \"Your Heatmap combined with seqlogo displaying amino acid substitutions was saved as: HLA-A2902_QKEAVQKEKcross_substitution.pdf\"\n",
      "##------ Mon Jun 30 14:23:37 2025 ------##\n",
      "[1] \"Your results were saved as: HLA-A2902_QKEAVQKEK.csv\"\n",
      "[1] \"From: 12812, there are 527 significant peptides (lower than 0.05)\"\n"
     ]
    },
    {
     "name": "stderr",
     "output_type": "stream",
     "text": [
      "Warning message in .local(object, ...):\n",
      "“Found 18 peptides out of 23. Unmapped peptides: ITEMLQKEY,FQEALKKSL,LSEMLNKEY,ISEMLSKEY,KYEALIKLL”\n"
     ]
    },
    {
     "name": "stdout",
     "output_type": "stream",
     "text": [
      "[1] \"Your heatmap presenting the gene donor expression profile was saved as: HLA-A2902_QKEAVQKEK_expression_heatmap.pdf\"\n",
      "[1] \"Your Bar plot summarizing the tissue-specificity groups was saved as: HLA-A2902_QKEAVQKEK_tissue_specificity.pdf\"\n"
     ]
    },
    {
     "name": "stderr",
     "output_type": "stream",
     "text": [
      "Warning message:\n",
      "“\u001b[1m\u001b[22mNo shared levels found between `names(values)` of the manual scale and the data's \u001b[32mcolour\u001b[39m values.”\n"
     ]
    },
    {
     "name": "stdout",
     "output_type": "stream",
     "text": [
      "[1] \"Your Heatmap combined with seqlogo displaying amino acid substitutions was saved as: HLA-A2902_QKEAVQKEKcross_substitution.pdf\"\n",
      "##------ Mon Jun 30 14:23:39 2025 ------##\n",
      "[1] \"Your results were saved as: HLA-A2902_QKEAVQKEK.csv\"\n",
      "[1] \"From: 12812, there are 527 significant peptides (lower than 0.05)\"\n"
     ]
    },
    {
     "name": "stderr",
     "output_type": "stream",
     "text": [
      "Warning message in .local(object, ...):\n",
      "“Found 18 peptides out of 23. Unmapped peptides: ITEMLQKEY,FQEALKKSL,LSEMLNKEY,ISEMLSKEY,KYEALIKLL”\n"
     ]
    },
    {
     "name": "stdout",
     "output_type": "stream",
     "text": [
      "[1] \"Your heatmap presenting the gene donor expression profile was saved as: HLA-A2902_QKEAVQKEK_expression_heatmap.pdf\"\n",
      "[1] \"Your Bar plot summarizing the tissue-specificity groups was saved as: HLA-A2902_QKEAVQKEK_tissue_specificity.pdf\"\n"
     ]
    },
    {
     "name": "stderr",
     "output_type": "stream",
     "text": [
      "Warning message:\n",
      "“\u001b[1m\u001b[22mNo shared levels found between `names(values)` of the manual scale and the data's \u001b[32mcolour\u001b[39m values.”\n"
     ]
    },
    {
     "name": "stdout",
     "output_type": "stream",
     "text": [
      "[1] \"Your Heatmap combined with seqlogo displaying amino acid substitutions was saved as: HLA-A2902_QKEAVQKEKcross_substitution.pdf\"\n",
      "##------ Mon Jun 30 14:23:40 2025 ------##\n",
      "[1] \"Your results were saved as: HLA-A2902_QKEAVQKEK.csv\"\n",
      "[1] \"From: 12812, there are 527 significant peptides (lower than 0.05)\"\n"
     ]
    },
    {
     "name": "stderr",
     "output_type": "stream",
     "text": [
      "Warning message in .local(object, ...):\n",
      "“Found 18 peptides out of 23. Unmapped peptides: ITEMLQKEY,FQEALKKSL,LSEMLNKEY,ISEMLSKEY,KYEALIKLL”\n"
     ]
    },
    {
     "name": "stdout",
     "output_type": "stream",
     "text": [
      "[1] \"Your heatmap presenting the gene donor expression profile was saved as: HLA-A2902_QKEAVQKEK_expression_heatmap.pdf\"\n",
      "[1] \"Your Bar plot summarizing the tissue-specificity groups was saved as: HLA-A2902_QKEAVQKEK_tissue_specificity.pdf\"\n"
     ]
    },
    {
     "name": "stderr",
     "output_type": "stream",
     "text": [
      "Warning message:\n",
      "“\u001b[1m\u001b[22mNo shared levels found between `names(values)` of the manual scale and the data's \u001b[32mcolour\u001b[39m values.”\n"
     ]
    },
    {
     "name": "stdout",
     "output_type": "stream",
     "text": [
      "[1] \"Your Heatmap combined with seqlogo displaying amino acid substitutions was saved as: HLA-A2902_QKEAVQKEKcross_substitution.pdf\"\n",
      "##------ Mon Jun 30 14:23:42 2025 ------##\n",
      "[1] \"Your results were saved as: HLA-A2902_KEAVQKEKP.csv\"\n",
      "[1] \"From: 12812, there are 83 significant peptides (lower than 0.05)\"\n"
     ]
    },
    {
     "name": "stderr",
     "output_type": "stream",
     "text": [
      "Warning message in .local(object, ...):\n",
      "“Found 2 peptides out of 2. Unmapped peptides: ”\n"
     ]
    },
    {
     "name": "stdout",
     "output_type": "stream",
     "text": [
      "[1] \"Your heatmap presenting the gene donor expression profile was saved as: HLA-A2902_KEAVQKEKP_expression_heatmap.pdf\"\n",
      "[1] \"Your Bar plot summarizing the tissue-specificity groups was saved as: HLA-A2902_KEAVQKEKP_tissue_specificity.pdf\"\n"
     ]
    },
    {
     "name": "stderr",
     "output_type": "stream",
     "text": [
      "Warning message:\n",
      "“\u001b[1m\u001b[22mNo shared levels found between `names(values)` of the manual scale and the data's \u001b[32mcolour\u001b[39m values.”\n"
     ]
    },
    {
     "name": "stdout",
     "output_type": "stream",
     "text": [
      "[1] \"Your Heatmap combined with seqlogo displaying amino acid substitutions was saved as: HLA-A2902_KEAVQKEKPcross_substitution.pdf\"\n",
      "##------ Mon Jun 30 14:23:44 2025 ------##\n",
      "[1] \"Your results were saved as: HLA-A2902_KEAVQKEKP.csv\"\n",
      "[1] \"From: 12812, there are 83 significant peptides (lower than 0.05)\"\n"
     ]
    },
    {
     "name": "stderr",
     "output_type": "stream",
     "text": [
      "Warning message in .local(object, ...):\n",
      "“Found 2 peptides out of 2. Unmapped peptides: ”\n"
     ]
    },
    {
     "name": "stdout",
     "output_type": "stream",
     "text": [
      "[1] \"Your heatmap presenting the gene donor expression profile was saved as: HLA-A2902_KEAVQKEKP_expression_heatmap.pdf\"\n",
      "[1] \"Your Bar plot summarizing the tissue-specificity groups was saved as: HLA-A2902_KEAVQKEKP_tissue_specificity.pdf\"\n"
     ]
    },
    {
     "name": "stderr",
     "output_type": "stream",
     "text": [
      "Warning message:\n",
      "“\u001b[1m\u001b[22mNo shared levels found between `names(values)` of the manual scale and the data's \u001b[32mcolour\u001b[39m values.”\n"
     ]
    },
    {
     "name": "stdout",
     "output_type": "stream",
     "text": [
      "[1] \"Your Heatmap combined with seqlogo displaying amino acid substitutions was saved as: HLA-A2902_KEAVQKEKPcross_substitution.pdf\"\n",
      "##------ Mon Jun 30 14:23:45 2025 ------##\n",
      "[1] \"Your results were saved as: HLA-A2902_KEAVQKEKP.csv\"\n",
      "[1] \"From: 12812, there are 83 significant peptides (lower than 0.05)\"\n"
     ]
    },
    {
     "name": "stderr",
     "output_type": "stream",
     "text": [
      "Warning message in .local(object, ...):\n",
      "“Found 2 peptides out of 2. Unmapped peptides: ”\n"
     ]
    },
    {
     "name": "stdout",
     "output_type": "stream",
     "text": [
      "[1] \"Your heatmap presenting the gene donor expression profile was saved as: HLA-A2902_KEAVQKEKP_expression_heatmap.pdf\"\n",
      "[1] \"Your Bar plot summarizing the tissue-specificity groups was saved as: HLA-A2902_KEAVQKEKP_tissue_specificity.pdf\"\n"
     ]
    },
    {
     "name": "stderr",
     "output_type": "stream",
     "text": [
      "Warning message:\n",
      "“\u001b[1m\u001b[22mNo shared levels found between `names(values)` of the manual scale and the data's \u001b[32mcolour\u001b[39m values.”\n"
     ]
    },
    {
     "name": "stdout",
     "output_type": "stream",
     "text": [
      "[1] \"Your Heatmap combined with seqlogo displaying amino acid substitutions was saved as: HLA-A2902_KEAVQKEKPcross_substitution.pdf\"\n",
      "##------ Mon Jun 30 14:23:48 2025 ------##\n",
      "[1] \"Your results were saved as: HLA-A2902_KEAVQKEKP.csv\"\n",
      "[1] \"From: 12812, there are 83 significant peptides (lower than 0.05)\"\n"
     ]
    },
    {
     "name": "stderr",
     "output_type": "stream",
     "text": [
      "Warning message in .local(object, ...):\n",
      "“Found 2 peptides out of 2. Unmapped peptides: ”\n"
     ]
    },
    {
     "name": "stdout",
     "output_type": "stream",
     "text": [
      "[1] \"Your heatmap presenting the gene donor expression profile was saved as: HLA-A2902_KEAVQKEKP_expression_heatmap.pdf\"\n",
      "[1] \"Your Bar plot summarizing the tissue-specificity groups was saved as: HLA-A2902_KEAVQKEKP_tissue_specificity.pdf\"\n"
     ]
    },
    {
     "name": "stderr",
     "output_type": "stream",
     "text": [
      "Warning message:\n",
      "“\u001b[1m\u001b[22mNo shared levels found between `names(values)` of the manual scale and the data's \u001b[32mcolour\u001b[39m values.”\n"
     ]
    },
    {
     "name": "stdout",
     "output_type": "stream",
     "text": [
      "[1] \"Your Heatmap combined with seqlogo displaying amino acid substitutions was saved as: HLA-A2902_KEAVQKEKPcross_substitution.pdf\"\n",
      "##------ Mon Jun 30 14:23:49 2025 ------##\n",
      "[1] \"Your results were saved as: HLA-A2902_EAVQKEKPI.csv\"\n",
      "[1] \"From: 12812, there are 94 significant peptides (lower than 0.05)\"\n"
     ]
    },
    {
     "name": "stderr",
     "output_type": "stream",
     "text": [
      "Warning message in .local(object, ...):\n",
      "“Found 1 peptides out of 3. Unmapped peptides: LAYEHDVPI,QVIEYLKPY”\n",
      "Warning message in max(abs(mat), na.rm = TRUE):\n",
      "“no non-missing arguments to max; returning -Inf”\n",
      "Skipping expression and tissue plots for HLA-A2902_EAVQKEKPI because: 'from' must be a finite number\n",
      "\n"
     ]
    },
    {
     "name": "stdout",
     "output_type": "stream",
     "text": [
      "##------ Mon Jun 30 14:23:50 2025 ------##\n",
      "[1] \"Your results were saved as: HLA-A2902_EAVQKEKPI.csv\"\n",
      "[1] \"From: 12812, there are 94 significant peptides (lower than 0.05)\"\n"
     ]
    },
    {
     "name": "stderr",
     "output_type": "stream",
     "text": [
      "Warning message in .local(object, ...):\n",
      "“Found 1 peptides out of 3. Unmapped peptides: LAYEHDVPI,QVIEYLKPY”\n",
      "Warning message in max(abs(mat), na.rm = TRUE):\n",
      "“no non-missing arguments to max; returning -Inf”\n",
      "Skipping expression and tissue plots for HLA-A2902_EAVQKEKPI because: 'from' must be a finite number\n",
      "\n"
     ]
    },
    {
     "name": "stdout",
     "output_type": "stream",
     "text": [
      "##------ Mon Jun 30 14:23:51 2025 ------##\n",
      "[1] \"Your results were saved as: HLA-A2902_EAVQKEKPI.csv\"\n",
      "[1] \"From: 12812, there are 94 significant peptides (lower than 0.05)\"\n"
     ]
    },
    {
     "name": "stderr",
     "output_type": "stream",
     "text": [
      "Warning message in .local(object, ...):\n",
      "“Found 1 peptides out of 3. Unmapped peptides: LAYEHDVPI,QVIEYLKPY”\n",
      "Warning message in max(abs(mat), na.rm = TRUE):\n",
      "“no non-missing arguments to max; returning -Inf”\n",
      "Skipping expression and tissue plots for HLA-A2902_EAVQKEKPI because: 'from' must be a finite number\n",
      "\n"
     ]
    },
    {
     "name": "stdout",
     "output_type": "stream",
     "text": [
      "##------ Mon Jun 30 14:23:52 2025 ------##\n",
      "[1] \"Your results were saved as: HLA-A2902_EAVQKEKPI.csv\"\n",
      "[1] \"From: 12812, there are 94 significant peptides (lower than 0.05)\"\n"
     ]
    },
    {
     "name": "stderr",
     "output_type": "stream",
     "text": [
      "Warning message in .local(object, ...):\n",
      "“Found 1 peptides out of 3. Unmapped peptides: LAYEHDVPI,QVIEYLKPY”\n",
      "Warning message in max(abs(mat), na.rm = TRUE):\n",
      "“no non-missing arguments to max; returning -Inf”\n",
      "Skipping expression and tissue plots for HLA-A2902_EAVQKEKPI because: 'from' must be a finite number\n",
      "\n"
     ]
    },
    {
     "name": "stdout",
     "output_type": "stream",
     "text": [
      "##------ Mon Jun 30 14:23:53 2025 ------##\n",
      "[1] \"Your results were saved as: HLA-A2902_AVQKEKPIP.csv\"\n",
      "[1] \"From: 12812, there are 17 significant peptides (lower than 0.05)\"\n"
     ]
    },
    {
     "name": "stderr",
     "output_type": "stream",
     "text": [
      "Skipping expression and tissue plots for HLA-A2902_AVQKEKPIP because: The provided epitopes are not included on the human proteome.\n",
      "\n"
     ]
    },
    {
     "name": "stdout",
     "output_type": "stream",
     "text": [
      "##------ Mon Jun 30 14:23:54 2025 ------##\n",
      "[1] \"Your results were saved as: HLA-A2902_AVQKEKPIP.csv\"\n",
      "[1] \"From: 12812, there are 17 significant peptides (lower than 0.05)\"\n"
     ]
    },
    {
     "name": "stderr",
     "output_type": "stream",
     "text": [
      "Skipping expression and tissue plots for HLA-A2902_AVQKEKPIP because: The provided epitopes are not included on the human proteome.\n",
      "\n"
     ]
    },
    {
     "name": "stdout",
     "output_type": "stream",
     "text": [
      "##------ Mon Jun 30 14:23:54 2025 ------##\n",
      "[1] \"Your results were saved as: HLA-A2902_AVQKEKPIP.csv\"\n",
      "[1] \"From: 12812, there are 17 significant peptides (lower than 0.05)\"\n"
     ]
    },
    {
     "name": "stderr",
     "output_type": "stream",
     "text": [
      "Skipping expression and tissue plots for HLA-A2902_AVQKEKPIP because: The provided epitopes are not included on the human proteome.\n",
      "\n"
     ]
    },
    {
     "name": "stdout",
     "output_type": "stream",
     "text": [
      "##------ Mon Jun 30 14:23:55 2025 ------##\n",
      "[1] \"Your results were saved as: HLA-A2902_AVQKEKPIP.csv\"\n",
      "[1] \"From: 12812, there are 17 significant peptides (lower than 0.05)\"\n"
     ]
    },
    {
     "name": "stderr",
     "output_type": "stream",
     "text": [
      "Skipping expression and tissue plots for HLA-A2902_AVQKEKPIP because: The provided epitopes are not included on the human proteome.\n",
      "\n"
     ]
    },
    {
     "name": "stdout",
     "output_type": "stream",
     "text": [
      "##------ Mon Jun 30 14:23:56 2025 ------##\n",
      "[1] \"Your results were saved as: HLA-A2902_VQKEKPIPQ.csv\"\n",
      "[1] \"From: 12812, there are 34 significant peptides (lower than 0.05)\"\n"
     ]
    },
    {
     "name": "stderr",
     "output_type": "stream",
     "text": [
      "Warning message in .local(object, ...):\n",
      "“Found 2 peptides out of 2. Unmapped peptides: ”\n"
     ]
    },
    {
     "name": "stdout",
     "output_type": "stream",
     "text": [
      "[1] \"Your heatmap presenting the gene donor expression profile was saved as: HLA-A2902_VQKEKPIPQ_expression_heatmap.pdf\"\n",
      "[1] \"Your Bar plot summarizing the tissue-specificity groups was saved as: HLA-A2902_VQKEKPIPQ_tissue_specificity.pdf\"\n"
     ]
    },
    {
     "name": "stderr",
     "output_type": "stream",
     "text": [
      "Warning message:\n",
      "“\u001b[1m\u001b[22mNo shared levels found between `names(values)` of the manual scale and the data's \u001b[32mcolour\u001b[39m values.”\n"
     ]
    },
    {
     "name": "stdout",
     "output_type": "stream",
     "text": [
      "[1] \"Your Heatmap combined with seqlogo displaying amino acid substitutions was saved as: HLA-A2902_VQKEKPIPQcross_substitution.pdf\"\n",
      "##------ Mon Jun 30 14:23:57 2025 ------##\n",
      "[1] \"Your results were saved as: HLA-A2902_VQKEKPIPQ.csv\"\n",
      "[1] \"From: 12812, there are 34 significant peptides (lower than 0.05)\"\n"
     ]
    },
    {
     "name": "stderr",
     "output_type": "stream",
     "text": [
      "Warning message in .local(object, ...):\n",
      "“Found 2 peptides out of 2. Unmapped peptides: ”\n"
     ]
    },
    {
     "name": "stdout",
     "output_type": "stream",
     "text": [
      "[1] \"Your heatmap presenting the gene donor expression profile was saved as: HLA-A2902_VQKEKPIPQ_expression_heatmap.pdf\"\n",
      "[1] \"Your Bar plot summarizing the tissue-specificity groups was saved as: HLA-A2902_VQKEKPIPQ_tissue_specificity.pdf\"\n"
     ]
    },
    {
     "name": "stderr",
     "output_type": "stream",
     "text": [
      "Warning message:\n",
      "“\u001b[1m\u001b[22mNo shared levels found between `names(values)` of the manual scale and the data's \u001b[32mcolour\u001b[39m values.”\n"
     ]
    },
    {
     "name": "stdout",
     "output_type": "stream",
     "text": [
      "[1] \"Your Heatmap combined with seqlogo displaying amino acid substitutions was saved as: HLA-A2902_VQKEKPIPQcross_substitution.pdf\"\n",
      "##------ Mon Jun 30 14:23:59 2025 ------##\n",
      "[1] \"Your results were saved as: HLA-A2902_VQKEKPIPQ.csv\"\n",
      "[1] \"From: 12812, there are 34 significant peptides (lower than 0.05)\"\n"
     ]
    },
    {
     "name": "stderr",
     "output_type": "stream",
     "text": [
      "Warning message in .local(object, ...):\n",
      "“Found 2 peptides out of 2. Unmapped peptides: ”\n"
     ]
    },
    {
     "name": "stdout",
     "output_type": "stream",
     "text": [
      "[1] \"Your heatmap presenting the gene donor expression profile was saved as: HLA-A2902_VQKEKPIPQ_expression_heatmap.pdf\"\n",
      "[1] \"Your Bar plot summarizing the tissue-specificity groups was saved as: HLA-A2902_VQKEKPIPQ_tissue_specificity.pdf\"\n"
     ]
    },
    {
     "name": "stderr",
     "output_type": "stream",
     "text": [
      "Warning message:\n",
      "“\u001b[1m\u001b[22mNo shared levels found between `names(values)` of the manual scale and the data's \u001b[32mcolour\u001b[39m values.”\n"
     ]
    },
    {
     "name": "stdout",
     "output_type": "stream",
     "text": [
      "[1] \"Your Heatmap combined with seqlogo displaying amino acid substitutions was saved as: HLA-A2902_VQKEKPIPQcross_substitution.pdf\"\n",
      "##------ Mon Jun 30 14:24:00 2025 ------##\n",
      "[1] \"Your results were saved as: HLA-A2902_VQKEKPIPQ.csv\"\n",
      "[1] \"From: 12812, there are 34 significant peptides (lower than 0.05)\"\n"
     ]
    },
    {
     "name": "stderr",
     "output_type": "stream",
     "text": [
      "Warning message in .local(object, ...):\n",
      "“Found 2 peptides out of 2. Unmapped peptides: ”\n"
     ]
    },
    {
     "name": "stdout",
     "output_type": "stream",
     "text": [
      "[1] \"Your heatmap presenting the gene donor expression profile was saved as: HLA-A2902_VQKEKPIPQ_expression_heatmap.pdf\"\n",
      "[1] \"Your Bar plot summarizing the tissue-specificity groups was saved as: HLA-A2902_VQKEKPIPQ_tissue_specificity.pdf\"\n"
     ]
    },
    {
     "name": "stderr",
     "output_type": "stream",
     "text": [
      "Warning message:\n",
      "“\u001b[1m\u001b[22mNo shared levels found between `names(values)` of the manual scale and the data's \u001b[32mcolour\u001b[39m values.”\n"
     ]
    },
    {
     "name": "stdout",
     "output_type": "stream",
     "text": [
      "[1] \"Your Heatmap combined with seqlogo displaying amino acid substitutions was saved as: HLA-A2902_VQKEKPIPQcross_substitution.pdf\"\n",
      "##------ Mon Jun 30 14:24:02 2025 ------##\n",
      "[1] \"Your results were saved as: HLA-A2902_QKEKPIPQE.csv\"\n",
      "[1] \"From: 12812, there are 32 significant peptides (lower than 0.05)\"\n"
     ]
    },
    {
     "name": "stderr",
     "output_type": "stream",
     "text": [
      "Warning message in .local(object, ...):\n",
      "“Found 2 peptides out of 2. Unmapped peptides: ”\n"
     ]
    },
    {
     "name": "stdout",
     "output_type": "stream",
     "text": [
      "[1] \"Your heatmap presenting the gene donor expression profile was saved as: HLA-A2902_QKEKPIPQE_expression_heatmap.pdf\"\n",
      "[1] \"Your Bar plot summarizing the tissue-specificity groups was saved as: HLA-A2902_QKEKPIPQE_tissue_specificity.pdf\"\n"
     ]
    },
    {
     "name": "stderr",
     "output_type": "stream",
     "text": [
      "Warning message:\n",
      "“\u001b[1m\u001b[22mNo shared levels found between `names(values)` of the manual scale and the data's \u001b[32mcolour\u001b[39m values.”\n"
     ]
    },
    {
     "name": "stdout",
     "output_type": "stream",
     "text": [
      "[1] \"Your Heatmap combined with seqlogo displaying amino acid substitutions was saved as: HLA-A2902_QKEKPIPQEcross_substitution.pdf\"\n",
      "##------ Mon Jun 30 14:24:03 2025 ------##\n",
      "[1] \"Your results were saved as: HLA-A2902_QKEKPIPQE.csv\"\n",
      "[1] \"From: 12812, there are 32 significant peptides (lower than 0.05)\"\n"
     ]
    },
    {
     "name": "stderr",
     "output_type": "stream",
     "text": [
      "Warning message in .local(object, ...):\n",
      "“Found 2 peptides out of 2. Unmapped peptides: ”\n"
     ]
    },
    {
     "name": "stdout",
     "output_type": "stream",
     "text": [
      "[1] \"Your heatmap presenting the gene donor expression profile was saved as: HLA-A2902_QKEKPIPQE_expression_heatmap.pdf\"\n",
      "[1] \"Your Bar plot summarizing the tissue-specificity groups was saved as: HLA-A2902_QKEKPIPQE_tissue_specificity.pdf\"\n"
     ]
    },
    {
     "name": "stderr",
     "output_type": "stream",
     "text": [
      "Warning message:\n",
      "“\u001b[1m\u001b[22mNo shared levels found between `names(values)` of the manual scale and the data's \u001b[32mcolour\u001b[39m values.”\n"
     ]
    }
   ],
   "source": [
    "# Load the data from CSV file\n",
    "#df <- read.csv(table)\n",
    "#print(colnames(df))\n",
    "\n",
    "# Using data from CSV file to set variables\n",
    "for (i in 1:nrow(df)) {\n",
    "    allele_value <- df[i,1]\n",
    "    query_value <- df[i, 2]\n",
    "\n",
    "    # Create a unique identifier for files\n",
    "    file_identifier <- paste(allele_value, query_value, sep=\"_\")\n",
    "    file_identifier <- gsub(\"[:*]\", \"\", file_identifier) # Remove special characters that may not be valid in file names\n",
    "\n",
    "    # Set up the database with specific allele, with off_target\n",
    "    # database <- cross_background(off_targets = off_target_value, allele = allele_value)\n",
    "\n",
    "    # Set up the database with specific allele, withOUT off_target\n",
    "    database <- cross_background(allele = allele_value)\n",
    "    database\n",
    "\n",
    "    # Compose result using the query value\n",
    "    result <- cross_compose(query = query_value, background = database)\n",
    "    result\n",
    "\n",
    "    # View result - use print if running in a non-interactive environment\n",
    "    #print(result@result)\n",
    "\n",
    "    # Save each result to a separate CSV file\n",
    "    result_file_name <- paste0(file_identifier, \".csv\")\n",
    "    write.csv(result@result, file = result_file_name, row.names = FALSE)\n",
    "    print(paste0(\"Your results were saved as: \", file_identifier, \".csv\"))\n",
    "    \n",
    "    \n",
    "    # Calculate counts\n",
    "    total_peptides <- nrow(result@result)\n",
    "    significant_peptides <- sum(result@result$pvalue <= 0.05)\n",
    "    \n",
    "    print(paste0(\"From: \", total_peptides, \", there are \", significant_peptides, \" significant peptides (lower than 0.05)\"))\n",
    "\n",
    "\n",
    "    # Optionally, collect all results in a list for further processing\n",
    "    #results_list[[file_identifier]] <- result@result\n",
    "\n",
    "    tryCatch({\n",
    "    # Extracting the gene donor mRNA expression based on CR candidates\n",
    "    expression_matrix <- cross_expression_matrix(result, pvalue_threshold = 0.005)\n",
    "    expression_matrix\n",
    "\n",
    "    # The heatmap presenting the gene donor expression profile\n",
    "    pdf(paste0(file_identifier, \"_expression_heatmap.pdf\"))\n",
    "    print(cross_expression_plot(object = expression_matrix))\n",
    "    dev.off()\n",
    "    print(paste0(\"Your heatmap presenting the gene donor expression profile was saved as: \",\n",
    "                 file_identifier, \"_expression_heatmap.pdf\"))\n",
    "\n",
    "    ## Summarizing tissue specificity across candidates\n",
    "\n",
    "    # Bar plot summarizing the tissue-specificity groups\n",
    "    pdf(paste0(file_identifier, \"_tissue_specificity.pdf\"))\n",
    "    print(cross_tissues_plot(object = expression_matrix))\n",
    "    dev.off()\n",
    "    print(paste0(\"Your Bar plot summarizing the tissue-specificity groups was saved as: \",\n",
    "                 file_identifier, \"_tissue_specificity.pdf\"))\n",
    "\n",
    "    ## Displaying peptides composition across best-score candidates\n",
    "\n",
    "    # Calculate position-specific substitution across cross-reactive candidates\n",
    "    cross_result <- cross_substitution_matrix(result)\n",
    "    cross_result\n",
    "\n",
    "    # Heatmap combined with seqlogo displaying amino acid substitutions\n",
    "    pdf(paste0(file_identifier, \"_cross_substitution.pdf\"))\n",
    "    print(cross_substitution_plot(object = cross_result))\n",
    "    dev.off()\n",
    "    print(paste0(\"Your Heatmap combined with seqlogo displaying amino acid substitutions was saved as: \",\n",
    "                file_identifier, \"cross_substitution.pdf\"))\n",
    "    }, error = function(e) {\n",
    "    message(paste(\"Skipping expression and tissue plots for\", file_identifier, \n",
    "                  \"because:\", e$message))\n",
    "})}"
   ]
  },
  {
   "cell_type": "code",
   "execution_count": null,
   "id": "6a7cb653-01d0-48af-a3dd-6990afeb57ca",
   "metadata": {},
   "outputs": [],
   "source": []
  }
 ],
 "metadata": {
  "kernelspec": {
   "display_name": "R",
   "language": "R",
   "name": "ir"
  },
  "language_info": {
   "codemirror_mode": "r",
   "file_extension": ".r",
   "mimetype": "text/x-r-source",
   "name": "R",
   "pygments_lexer": "r",
   "version": "4.3.2"
  }
 },
 "nbformat": 4,
 "nbformat_minor": 5
}
